{
 "cells": [
  {
   "cell_type": "code",
   "execution_count": 1,
   "metadata": {},
   "outputs": [],
   "source": [
    "# Import required libraries\n",
    "import numpy as np\n",
    "import pandas as pd\n",
    "import seaborn as sns\n",
    "import matplotlib.pyplot as plt"
   ]
  },
  {
   "cell_type": "code",
   "execution_count": 2,
   "metadata": {},
   "outputs": [],
   "source": [
    "# Import the csv file: Accident_Data\n",
    "df = pd.read_csv('C:\\\\Users\\Servet\\Desktop\\Project1 Files\\Accidents.csv')"
   ]
  },
  {
   "cell_type": "code",
   "execution_count": 3,
   "metadata": {},
   "outputs": [
    {
     "data": {
      "text/html": [
       "<div>\n",
       "<style scoped>\n",
       "    .dataframe tbody tr th:only-of-type {\n",
       "        vertical-align: middle;\n",
       "    }\n",
       "\n",
       "    .dataframe tbody tr th {\n",
       "        vertical-align: top;\n",
       "    }\n",
       "\n",
       "    .dataframe thead th {\n",
       "        text-align: right;\n",
       "    }\n",
       "</style>\n",
       "<table border=\"1\" class=\"dataframe\">\n",
       "  <thead>\n",
       "    <tr style=\"text-align: right;\">\n",
       "      <th></th>\n",
       "      <th>ID</th>\n",
       "      <th>Source</th>\n",
       "      <th>TMC</th>\n",
       "      <th>Severity</th>\n",
       "      <th>Start_Time</th>\n",
       "      <th>End_Time</th>\n",
       "      <th>Start_Lat</th>\n",
       "      <th>Start_Lng</th>\n",
       "      <th>End_Lat</th>\n",
       "      <th>End_Lng</th>\n",
       "      <th>...</th>\n",
       "      <th>Roundabout</th>\n",
       "      <th>Station</th>\n",
       "      <th>Stop</th>\n",
       "      <th>Traffic_Calming</th>\n",
       "      <th>Traffic_Signal</th>\n",
       "      <th>Turning_Loop</th>\n",
       "      <th>Sunrise_Sunset</th>\n",
       "      <th>Civil_Twilight</th>\n",
       "      <th>Nautical_Twilight</th>\n",
       "      <th>Astronomical_Twilight</th>\n",
       "    </tr>\n",
       "  </thead>\n",
       "  <tbody>\n",
       "    <tr>\n",
       "      <td>0</td>\n",
       "      <td>A-1</td>\n",
       "      <td>MapQuest</td>\n",
       "      <td>201</td>\n",
       "      <td>3</td>\n",
       "      <td>2/8/2016 5:46</td>\n",
       "      <td>2/8/2016 11:00</td>\n",
       "      <td>39.865147</td>\n",
       "      <td>-84.058723</td>\n",
       "      <td>NaN</td>\n",
       "      <td>NaN</td>\n",
       "      <td>...</td>\n",
       "      <td>False</td>\n",
       "      <td>False</td>\n",
       "      <td>False</td>\n",
       "      <td>False</td>\n",
       "      <td>False</td>\n",
       "      <td>False</td>\n",
       "      <td>Night</td>\n",
       "      <td>Night</td>\n",
       "      <td>Night</td>\n",
       "      <td>Night</td>\n",
       "    </tr>\n",
       "    <tr>\n",
       "      <td>1</td>\n",
       "      <td>A-2</td>\n",
       "      <td>MapQuest</td>\n",
       "      <td>201</td>\n",
       "      <td>2</td>\n",
       "      <td>2/8/2016 6:07</td>\n",
       "      <td>2/8/2016 6:37</td>\n",
       "      <td>39.928059</td>\n",
       "      <td>-82.831184</td>\n",
       "      <td>NaN</td>\n",
       "      <td>NaN</td>\n",
       "      <td>...</td>\n",
       "      <td>False</td>\n",
       "      <td>False</td>\n",
       "      <td>False</td>\n",
       "      <td>False</td>\n",
       "      <td>False</td>\n",
       "      <td>False</td>\n",
       "      <td>Night</td>\n",
       "      <td>Night</td>\n",
       "      <td>Night</td>\n",
       "      <td>Day</td>\n",
       "    </tr>\n",
       "    <tr>\n",
       "      <td>2</td>\n",
       "      <td>A-3</td>\n",
       "      <td>MapQuest</td>\n",
       "      <td>201</td>\n",
       "      <td>2</td>\n",
       "      <td>2/8/2016 6:49</td>\n",
       "      <td>2/8/2016 7:19</td>\n",
       "      <td>39.063148</td>\n",
       "      <td>-84.032608</td>\n",
       "      <td>NaN</td>\n",
       "      <td>NaN</td>\n",
       "      <td>...</td>\n",
       "      <td>False</td>\n",
       "      <td>False</td>\n",
       "      <td>False</td>\n",
       "      <td>False</td>\n",
       "      <td>True</td>\n",
       "      <td>False</td>\n",
       "      <td>Night</td>\n",
       "      <td>Night</td>\n",
       "      <td>Day</td>\n",
       "      <td>Day</td>\n",
       "    </tr>\n",
       "    <tr>\n",
       "      <td>3</td>\n",
       "      <td>A-4</td>\n",
       "      <td>MapQuest</td>\n",
       "      <td>201</td>\n",
       "      <td>3</td>\n",
       "      <td>2/8/2016 7:23</td>\n",
       "      <td>2/8/2016 7:53</td>\n",
       "      <td>39.747753</td>\n",
       "      <td>-84.205582</td>\n",
       "      <td>NaN</td>\n",
       "      <td>NaN</td>\n",
       "      <td>...</td>\n",
       "      <td>False</td>\n",
       "      <td>False</td>\n",
       "      <td>False</td>\n",
       "      <td>False</td>\n",
       "      <td>False</td>\n",
       "      <td>False</td>\n",
       "      <td>Night</td>\n",
       "      <td>Day</td>\n",
       "      <td>Day</td>\n",
       "      <td>Day</td>\n",
       "    </tr>\n",
       "    <tr>\n",
       "      <td>4</td>\n",
       "      <td>A-5</td>\n",
       "      <td>MapQuest</td>\n",
       "      <td>201</td>\n",
       "      <td>2</td>\n",
       "      <td>2/8/2016 7:39</td>\n",
       "      <td>2/8/2016 8:09</td>\n",
       "      <td>39.627781</td>\n",
       "      <td>-84.188354</td>\n",
       "      <td>NaN</td>\n",
       "      <td>NaN</td>\n",
       "      <td>...</td>\n",
       "      <td>False</td>\n",
       "      <td>False</td>\n",
       "      <td>False</td>\n",
       "      <td>False</td>\n",
       "      <td>True</td>\n",
       "      <td>False</td>\n",
       "      <td>Day</td>\n",
       "      <td>Day</td>\n",
       "      <td>Day</td>\n",
       "      <td>Day</td>\n",
       "    </tr>\n",
       "  </tbody>\n",
       "</table>\n",
       "<p>5 rows × 49 columns</p>\n",
       "</div>"
      ],
      "text/plain": [
       "    ID    Source  TMC  Severity     Start_Time        End_Time  Start_Lat  \\\n",
       "0  A-1  MapQuest  201         3  2/8/2016 5:46  2/8/2016 11:00  39.865147   \n",
       "1  A-2  MapQuest  201         2  2/8/2016 6:07   2/8/2016 6:37  39.928059   \n",
       "2  A-3  MapQuest  201         2  2/8/2016 6:49   2/8/2016 7:19  39.063148   \n",
       "3  A-4  MapQuest  201         3  2/8/2016 7:23   2/8/2016 7:53  39.747753   \n",
       "4  A-5  MapQuest  201         2  2/8/2016 7:39   2/8/2016 8:09  39.627781   \n",
       "\n",
       "   Start_Lng  End_Lat  End_Lng  ...  Roundabout Station   Stop  \\\n",
       "0 -84.058723      NaN      NaN  ...       False   False  False   \n",
       "1 -82.831184      NaN      NaN  ...       False   False  False   \n",
       "2 -84.032608      NaN      NaN  ...       False   False  False   \n",
       "3 -84.205582      NaN      NaN  ...       False   False  False   \n",
       "4 -84.188354      NaN      NaN  ...       False   False  False   \n",
       "\n",
       "  Traffic_Calming Traffic_Signal Turning_Loop Sunrise_Sunset Civil_Twilight  \\\n",
       "0           False          False        False          Night          Night   \n",
       "1           False          False        False          Night          Night   \n",
       "2           False           True        False          Night          Night   \n",
       "3           False          False        False          Night            Day   \n",
       "4           False           True        False            Day            Day   \n",
       "\n",
       "  Nautical_Twilight Astronomical_Twilight  \n",
       "0             Night                 Night  \n",
       "1             Night                   Day  \n",
       "2               Day                   Day  \n",
       "3               Day                   Day  \n",
       "4               Day                   Day  \n",
       "\n",
       "[5 rows x 49 columns]"
      ]
     },
     "execution_count": 3,
     "metadata": {},
     "output_type": "execute_result"
    }
   ],
   "source": [
    "# Check the Data Frames head\n",
    "df.head()"
   ]
  },
  {
   "cell_type": "code",
   "execution_count": 4,
   "metadata": {
    "scrolled": true
   },
   "outputs": [
    {
     "name": "stdout",
     "output_type": "stream",
     "text": [
      "<class 'pandas.core.frame.DataFrame'>\n",
      "RangeIndex: 1048575 entries, 0 to 1048574\n",
      "Data columns (total 49 columns):\n",
      "ID                       1048575 non-null object\n",
      "Source                   1048575 non-null object\n",
      "TMC                      1048575 non-null int64\n",
      "Severity                 1048575 non-null int64\n",
      "Start_Time               1048575 non-null object\n",
      "End_Time                 1048575 non-null object\n",
      "Start_Lat                1048575 non-null float64\n",
      "Start_Lng                1048575 non-null float64\n",
      "End_Lat                  0 non-null float64\n",
      "End_Lng                  0 non-null float64\n",
      "Distance(mi)             1048575 non-null float64\n",
      "Description              1048574 non-null object\n",
      "Number                   396803 non-null float64\n",
      "Street                   1048575 non-null object\n",
      "Side                     1048575 non-null object\n",
      "City                     1048548 non-null object\n",
      "County                   1048575 non-null object\n",
      "State                    1048575 non-null object\n",
      "Zipcode                  1048435 non-null object\n",
      "Country                  1048575 non-null object\n",
      "Timezone                 1047994 non-null object\n",
      "Airport_Code             1038285 non-null object\n",
      "Weather_Timestamp        1030944 non-null object\n",
      "Temperature(F)           1024516 non-null float64\n",
      "Wind_Chill(F)            173430 non-null float64\n",
      "Humidity(%)              1023464 non-null float64\n",
      "Pressure(in)             1027506 non-null float64\n",
      "Visibility(mi)           1019602 non-null float64\n",
      "Wind_Direction           1030936 non-null object\n",
      "Wind_Speed(mph)          840947 non-null float64\n",
      "Precipitation(in)        121520 non-null float64\n",
      "Weather_Condition        1019624 non-null object\n",
      "Amenity                  1048575 non-null bool\n",
      "Bump                     1048575 non-null bool\n",
      "Crossing                 1048575 non-null bool\n",
      "Give_Way                 1048575 non-null bool\n",
      "Junction                 1048575 non-null bool\n",
      "No_Exit                  1048575 non-null bool\n",
      "Railway                  1048575 non-null bool\n",
      "Roundabout               1048575 non-null bool\n",
      "Station                  1048575 non-null bool\n",
      "Stop                     1048575 non-null bool\n",
      "Traffic_Calming          1048575 non-null bool\n",
      "Traffic_Signal           1048575 non-null bool\n",
      "Turning_Loop             1048575 non-null bool\n",
      "Sunrise_Sunset           1048546 non-null object\n",
      "Civil_Twilight           1048546 non-null object\n",
      "Nautical_Twilight        1048546 non-null object\n",
      "Astronomical_Twilight    1048546 non-null object\n",
      "dtypes: bool(13), float64(13), int64(2), object(21)\n",
      "memory usage: 301.0+ MB\n"
     ]
    }
   ],
   "source": [
    "# Get some summary details about the Data Frame\n",
    "df.info()"
   ]
  },
  {
   "cell_type": "code",
   "execution_count": 5,
   "metadata": {},
   "outputs": [],
   "source": [
    "#Since there are no informatiojn in two columns, we will drop them\n",
    "df = df.drop(columns = ['End_Lat', 'End_Lng'])"
   ]
  },
  {
   "cell_type": "code",
   "execution_count": 6,
   "metadata": {},
   "outputs": [
    {
     "name": "stdout",
     "output_type": "stream",
     "text": [
      "<class 'pandas.core.frame.DataFrame'>\n",
      "RangeIndex: 1048575 entries, 0 to 1048574\n",
      "Data columns (total 47 columns):\n",
      "ID                       1048575 non-null object\n",
      "Source                   1048575 non-null object\n",
      "TMC                      1048575 non-null int64\n",
      "Severity                 1048575 non-null int64\n",
      "Start_Time               1048575 non-null object\n",
      "End_Time                 1048575 non-null object\n",
      "Start_Lat                1048575 non-null float64\n",
      "Start_Lng                1048575 non-null float64\n",
      "Distance(mi)             1048575 non-null float64\n",
      "Description              1048574 non-null object\n",
      "Number                   396803 non-null float64\n",
      "Street                   1048575 non-null object\n",
      "Side                     1048575 non-null object\n",
      "City                     1048548 non-null object\n",
      "County                   1048575 non-null object\n",
      "State                    1048575 non-null object\n",
      "Zipcode                  1048435 non-null object\n",
      "Country                  1048575 non-null object\n",
      "Timezone                 1047994 non-null object\n",
      "Airport_Code             1038285 non-null object\n",
      "Weather_Timestamp        1030944 non-null object\n",
      "Temperature(F)           1024516 non-null float64\n",
      "Wind_Chill(F)            173430 non-null float64\n",
      "Humidity(%)              1023464 non-null float64\n",
      "Pressure(in)             1027506 non-null float64\n",
      "Visibility(mi)           1019602 non-null float64\n",
      "Wind_Direction           1030936 non-null object\n",
      "Wind_Speed(mph)          840947 non-null float64\n",
      "Precipitation(in)        121520 non-null float64\n",
      "Weather_Condition        1019624 non-null object\n",
      "Amenity                  1048575 non-null bool\n",
      "Bump                     1048575 non-null bool\n",
      "Crossing                 1048575 non-null bool\n",
      "Give_Way                 1048575 non-null bool\n",
      "Junction                 1048575 non-null bool\n",
      "No_Exit                  1048575 non-null bool\n",
      "Railway                  1048575 non-null bool\n",
      "Roundabout               1048575 non-null bool\n",
      "Station                  1048575 non-null bool\n",
      "Stop                     1048575 non-null bool\n",
      "Traffic_Calming          1048575 non-null bool\n",
      "Traffic_Signal           1048575 non-null bool\n",
      "Turning_Loop             1048575 non-null bool\n",
      "Sunrise_Sunset           1048546 non-null object\n",
      "Civil_Twilight           1048546 non-null object\n",
      "Nautical_Twilight        1048546 non-null object\n",
      "Astronomical_Twilight    1048546 non-null object\n",
      "dtypes: bool(13), float64(11), int64(2), object(21)\n",
      "memory usage: 285.0+ MB\n"
     ]
    }
   ],
   "source": [
    "# Now we will check to make sure the columns have been dropped\n",
    "df.info()"
   ]
  },
  {
   "cell_type": "code",
   "execution_count": 7,
   "metadata": {},
   "outputs": [
    {
     "data": {
      "text/html": [
       "<div>\n",
       "<style scoped>\n",
       "    .dataframe tbody tr th:only-of-type {\n",
       "        vertical-align: middle;\n",
       "    }\n",
       "\n",
       "    .dataframe tbody tr th {\n",
       "        vertical-align: top;\n",
       "    }\n",
       "\n",
       "    .dataframe thead th {\n",
       "        text-align: right;\n",
       "    }\n",
       "</style>\n",
       "<table border=\"1\" class=\"dataframe\">\n",
       "  <thead>\n",
       "    <tr style=\"text-align: right;\">\n",
       "      <th></th>\n",
       "      <th>TMC</th>\n",
       "      <th>Severity</th>\n",
       "      <th>Start_Lat</th>\n",
       "      <th>Start_Lng</th>\n",
       "      <th>Distance(mi)</th>\n",
       "      <th>Number</th>\n",
       "      <th>Temperature(F)</th>\n",
       "      <th>Wind_Chill(F)</th>\n",
       "      <th>Humidity(%)</th>\n",
       "      <th>Pressure(in)</th>\n",
       "      <th>Visibility(mi)</th>\n",
       "      <th>Wind_Speed(mph)</th>\n",
       "      <th>Precipitation(in)</th>\n",
       "    </tr>\n",
       "  </thead>\n",
       "  <tbody>\n",
       "    <tr>\n",
       "      <td>count</td>\n",
       "      <td>1.048575e+06</td>\n",
       "      <td>1.048575e+06</td>\n",
       "      <td>1.048575e+06</td>\n",
       "      <td>1.048575e+06</td>\n",
       "      <td>1.048575e+06</td>\n",
       "      <td>396803.000000</td>\n",
       "      <td>1.024516e+06</td>\n",
       "      <td>173430.000000</td>\n",
       "      <td>1.023464e+06</td>\n",
       "      <td>1.027506e+06</td>\n",
       "      <td>1.019602e+06</td>\n",
       "      <td>840947.000000</td>\n",
       "      <td>121520.000000</td>\n",
       "    </tr>\n",
       "    <tr>\n",
       "      <td>mean</td>\n",
       "      <td>2.077632e+02</td>\n",
       "      <td>2.358323e+00</td>\n",
       "      <td>3.611783e+01</td>\n",
       "      <td>-9.517610e+01</td>\n",
       "      <td>1.476137e-01</td>\n",
       "      <td>5034.707258</td>\n",
       "      <td>6.197517e+01</td>\n",
       "      <td>26.590321</td>\n",
       "      <td>6.680177e+01</td>\n",
       "      <td>3.003558e+01</td>\n",
       "      <td>9.056237e+00</td>\n",
       "      <td>8.715629</td>\n",
       "      <td>0.059667</td>\n",
       "    </tr>\n",
       "    <tr>\n",
       "      <td>std</td>\n",
       "      <td>1.968127e+01</td>\n",
       "      <td>4.824762e-01</td>\n",
       "      <td>4.895696e+00</td>\n",
       "      <td>1.720663e+01</td>\n",
       "      <td>1.361161e+00</td>\n",
       "      <td>8757.437989</td>\n",
       "      <td>1.896201e+01</td>\n",
       "      <td>13.294340</td>\n",
       "      <td>2.182290e+01</td>\n",
       "      <td>2.210940e-01</td>\n",
       "      <td>2.729740e+00</td>\n",
       "      <td>5.034465</td>\n",
       "      <td>0.424239</td>\n",
       "    </tr>\n",
       "    <tr>\n",
       "      <td>min</td>\n",
       "      <td>2.000000e+02</td>\n",
       "      <td>0.000000e+00</td>\n",
       "      <td>2.457027e+01</td>\n",
       "      <td>-1.244931e+02</td>\n",
       "      <td>0.000000e+00</td>\n",
       "      <td>1.000000</td>\n",
       "      <td>-7.780000e+01</td>\n",
       "      <td>-55.100000</td>\n",
       "      <td>4.000000e+00</td>\n",
       "      <td>0.000000e+00</td>\n",
       "      <td>0.000000e+00</td>\n",
       "      <td>1.200000</td>\n",
       "      <td>0.000000</td>\n",
       "    </tr>\n",
       "    <tr>\n",
       "      <td>25%</td>\n",
       "      <td>2.010000e+02</td>\n",
       "      <td>2.000000e+00</td>\n",
       "      <td>3.300991e+01</td>\n",
       "      <td>-1.173272e+02</td>\n",
       "      <td>0.000000e+00</td>\n",
       "      <td>782.000000</td>\n",
       "      <td>5.000000e+01</td>\n",
       "      <td>20.000000</td>\n",
       "      <td>5.100000e+01</td>\n",
       "      <td>2.992000e+01</td>\n",
       "      <td>1.000000e+01</td>\n",
       "      <td>5.800000</td>\n",
       "      <td>0.000000</td>\n",
       "    </tr>\n",
       "    <tr>\n",
       "      <td>50%</td>\n",
       "      <td>2.010000e+02</td>\n",
       "      <td>2.000000e+00</td>\n",
       "      <td>3.541019e+01</td>\n",
       "      <td>-9.021603e+01</td>\n",
       "      <td>0.000000e+00</td>\n",
       "      <td>2499.000000</td>\n",
       "      <td>6.400000e+01</td>\n",
       "      <td>29.300000</td>\n",
       "      <td>6.900000e+01</td>\n",
       "      <td>3.003000e+01</td>\n",
       "      <td>1.000000e+01</td>\n",
       "      <td>8.100000</td>\n",
       "      <td>0.010000</td>\n",
       "    </tr>\n",
       "    <tr>\n",
       "      <td>75%</td>\n",
       "      <td>2.010000e+02</td>\n",
       "      <td>3.000000e+00</td>\n",
       "      <td>4.009613e+01</td>\n",
       "      <td>-8.093151e+01</td>\n",
       "      <td>1.000000e-02</td>\n",
       "      <td>6486.000000</td>\n",
       "      <td>7.590000e+01</td>\n",
       "      <td>36.800000</td>\n",
       "      <td>8.500000e+01</td>\n",
       "      <td>3.014000e+01</td>\n",
       "      <td>1.000000e+01</td>\n",
       "      <td>11.500000</td>\n",
       "      <td>0.040000</td>\n",
       "    </tr>\n",
       "    <tr>\n",
       "      <td>max</td>\n",
       "      <td>4.060000e+02</td>\n",
       "      <td>4.000000e+00</td>\n",
       "      <td>4.900076e+01</td>\n",
       "      <td>-6.865836e+01</td>\n",
       "      <td>3.336300e+02</td>\n",
       "      <td>851909.000000</td>\n",
       "      <td>1.670000e+02</td>\n",
       "      <td>45.200000</td>\n",
       "      <td>1.000000e+02</td>\n",
       "      <td>3.304000e+01</td>\n",
       "      <td>1.110000e+02</td>\n",
       "      <td>822.800000</td>\n",
       "      <td>10.800000</td>\n",
       "    </tr>\n",
       "  </tbody>\n",
       "</table>\n",
       "</div>"
      ],
      "text/plain": [
       "                TMC      Severity     Start_Lat     Start_Lng  Distance(mi)  \\\n",
       "count  1.048575e+06  1.048575e+06  1.048575e+06  1.048575e+06  1.048575e+06   \n",
       "mean   2.077632e+02  2.358323e+00  3.611783e+01 -9.517610e+01  1.476137e-01   \n",
       "std    1.968127e+01  4.824762e-01  4.895696e+00  1.720663e+01  1.361161e+00   \n",
       "min    2.000000e+02  0.000000e+00  2.457027e+01 -1.244931e+02  0.000000e+00   \n",
       "25%    2.010000e+02  2.000000e+00  3.300991e+01 -1.173272e+02  0.000000e+00   \n",
       "50%    2.010000e+02  2.000000e+00  3.541019e+01 -9.021603e+01  0.000000e+00   \n",
       "75%    2.010000e+02  3.000000e+00  4.009613e+01 -8.093151e+01  1.000000e-02   \n",
       "max    4.060000e+02  4.000000e+00  4.900076e+01 -6.865836e+01  3.336300e+02   \n",
       "\n",
       "              Number  Temperature(F)  Wind_Chill(F)   Humidity(%)  \\\n",
       "count  396803.000000    1.024516e+06  173430.000000  1.023464e+06   \n",
       "mean     5034.707258    6.197517e+01      26.590321  6.680177e+01   \n",
       "std      8757.437989    1.896201e+01      13.294340  2.182290e+01   \n",
       "min         1.000000   -7.780000e+01     -55.100000  4.000000e+00   \n",
       "25%       782.000000    5.000000e+01      20.000000  5.100000e+01   \n",
       "50%      2499.000000    6.400000e+01      29.300000  6.900000e+01   \n",
       "75%      6486.000000    7.590000e+01      36.800000  8.500000e+01   \n",
       "max    851909.000000    1.670000e+02      45.200000  1.000000e+02   \n",
       "\n",
       "       Pressure(in)  Visibility(mi)  Wind_Speed(mph)  Precipitation(in)  \n",
       "count  1.027506e+06    1.019602e+06    840947.000000      121520.000000  \n",
       "mean   3.003558e+01    9.056237e+00         8.715629           0.059667  \n",
       "std    2.210940e-01    2.729740e+00         5.034465           0.424239  \n",
       "min    0.000000e+00    0.000000e+00         1.200000           0.000000  \n",
       "25%    2.992000e+01    1.000000e+01         5.800000           0.000000  \n",
       "50%    3.003000e+01    1.000000e+01         8.100000           0.010000  \n",
       "75%    3.014000e+01    1.000000e+01        11.500000           0.040000  \n",
       "max    3.304000e+01    1.110000e+02       822.800000          10.800000  "
      ]
     },
     "execution_count": 7,
     "metadata": {},
     "output_type": "execute_result"
    }
   ],
   "source": [
    "# Let's check the summary statistics of the numerical variables:\n",
    "df.describe()"
   ]
  },
  {
   "cell_type": "code",
   "execution_count": 8,
   "metadata": {},
   "outputs": [
    {
     "data": {
      "text/plain": [
       "ID                            0\n",
       "Source                        0\n",
       "TMC                           0\n",
       "Severity                      0\n",
       "Start_Time                    0\n",
       "End_Time                      0\n",
       "Start_Lat                     0\n",
       "Start_Lng                     0\n",
       "Distance(mi)                  0\n",
       "Description                   1\n",
       "Number                   651772\n",
       "Street                        0\n",
       "Side                          0\n",
       "City                         27\n",
       "County                        0\n",
       "State                         0\n",
       "Zipcode                     140\n",
       "Country                       0\n",
       "Timezone                    581\n",
       "Airport_Code              10290\n",
       "Weather_Timestamp         17631\n",
       "Temperature(F)            24059\n",
       "Wind_Chill(F)            875145\n",
       "Humidity(%)               25111\n",
       "Pressure(in)              21069\n",
       "Visibility(mi)            28973\n",
       "Wind_Direction            17639\n",
       "Wind_Speed(mph)          207628\n",
       "Precipitation(in)        927055\n",
       "Weather_Condition         28951\n",
       "Amenity                       0\n",
       "Bump                          0\n",
       "Crossing                      0\n",
       "Give_Way                      0\n",
       "Junction                      0\n",
       "No_Exit                       0\n",
       "Railway                       0\n",
       "Roundabout                    0\n",
       "Station                       0\n",
       "Stop                          0\n",
       "Traffic_Calming               0\n",
       "Traffic_Signal                0\n",
       "Turning_Loop                  0\n",
       "Sunrise_Sunset               29\n",
       "Civil_Twilight               29\n",
       "Nautical_Twilight            29\n",
       "Astronomical_Twilight        29\n",
       "dtype: int64"
      ]
     },
     "execution_count": 8,
     "metadata": {},
     "output_type": "execute_result"
    }
   ],
   "source": [
    "# Let's check the total missing values in each entry\n",
    "df.isnull().sum()"
   ]
  },
  {
   "cell_type": "code",
   "execution_count": 9,
   "metadata": {},
   "outputs": [],
   "source": [
    "# Convert Start_Time and End_Time to datetypes\n",
    "df['Start_Time'] = pd.to_datetime(df['Start_Time'], errors='coerce')\n",
    "df['End_Time'] = pd.to_datetime(df['End_Time'], errors='coerce')\n",
    "\n",
    "# Extract year, month, day, hour and weekday\n",
    "df['Year']=df['Start_Time'].dt.year\n",
    "df['Month']=df['Start_Time'].dt.strftime('%b')\n",
    "df['Day']=df['Start_Time'].dt.day\n",
    "df['Hour']=df['Start_Time'].dt.hour\n",
    "df['Weekday']=df['Start_Time'].dt.strftime('%a')"
   ]
  },
  {
   "cell_type": "code",
   "execution_count": 10,
   "metadata": {
    "scrolled": false
   },
   "outputs": [
    {
     "name": "stdout",
     "output_type": "stream",
     "text": [
      "<class 'pandas.core.frame.DataFrame'>\n",
      "RangeIndex: 1048575 entries, 0 to 1048574\n",
      "Data columns (total 52 columns):\n",
      "ID                       1048575 non-null object\n",
      "Source                   1048575 non-null object\n",
      "TMC                      1048575 non-null int64\n",
      "Severity                 1048575 non-null int64\n",
      "Start_Time               1048575 non-null datetime64[ns]\n",
      "End_Time                 1048575 non-null datetime64[ns]\n",
      "Start_Lat                1048575 non-null float64\n",
      "Start_Lng                1048575 non-null float64\n",
      "Distance(mi)             1048575 non-null float64\n",
      "Description              1048574 non-null object\n",
      "Number                   396803 non-null float64\n",
      "Street                   1048575 non-null object\n",
      "Side                     1048575 non-null object\n",
      "City                     1048548 non-null object\n",
      "County                   1048575 non-null object\n",
      "State                    1048575 non-null object\n",
      "Zipcode                  1048435 non-null object\n",
      "Country                  1048575 non-null object\n",
      "Timezone                 1047994 non-null object\n",
      "Airport_Code             1038285 non-null object\n",
      "Weather_Timestamp        1030944 non-null object\n",
      "Temperature(F)           1024516 non-null float64\n",
      "Wind_Chill(F)            173430 non-null float64\n",
      "Humidity(%)              1023464 non-null float64\n",
      "Pressure(in)             1027506 non-null float64\n",
      "Visibility(mi)           1019602 non-null float64\n",
      "Wind_Direction           1030936 non-null object\n",
      "Wind_Speed(mph)          840947 non-null float64\n",
      "Precipitation(in)        121520 non-null float64\n",
      "Weather_Condition        1019624 non-null object\n",
      "Amenity                  1048575 non-null bool\n",
      "Bump                     1048575 non-null bool\n",
      "Crossing                 1048575 non-null bool\n",
      "Give_Way                 1048575 non-null bool\n",
      "Junction                 1048575 non-null bool\n",
      "No_Exit                  1048575 non-null bool\n",
      "Railway                  1048575 non-null bool\n",
      "Roundabout               1048575 non-null bool\n",
      "Station                  1048575 non-null bool\n",
      "Stop                     1048575 non-null bool\n",
      "Traffic_Calming          1048575 non-null bool\n",
      "Traffic_Signal           1048575 non-null bool\n",
      "Turning_Loop             1048575 non-null bool\n",
      "Sunrise_Sunset           1048546 non-null object\n",
      "Civil_Twilight           1048546 non-null object\n",
      "Nautical_Twilight        1048546 non-null object\n",
      "Astronomical_Twilight    1048546 non-null object\n",
      "Year                     1048575 non-null int64\n",
      "Month                    1048575 non-null object\n",
      "Day                      1048575 non-null int64\n",
      "Hour                     1048575 non-null int64\n",
      "Weekday                  1048575 non-null object\n",
      "dtypes: bool(13), datetime64[ns](2), float64(11), int64(5), object(21)\n",
      "memory usage: 325.0+ MB\n"
     ]
    }
   ],
   "source": [
    "# We will check whether these columns has been added\n",
    "df.info()"
   ]
  },
  {
   "cell_type": "code",
   "execution_count": 11,
   "metadata": {},
   "outputs": [],
   "source": [
    "# Now, I want to replace the missing cells with 'ffill' method. Since the data is in an order, consecutive rows will likely to have similar attributes\n",
    "df = df.fillna(method='ffill')"
   ]
  },
  {
   "cell_type": "code",
   "execution_count": 12,
   "metadata": {
    "scrolled": true
   },
   "outputs": [
    {
     "name": "stdout",
     "output_type": "stream",
     "text": [
      "<class 'pandas.core.frame.DataFrame'>\n",
      "RangeIndex: 1048575 entries, 0 to 1048574\n",
      "Data columns (total 52 columns):\n",
      "ID                       1048575 non-null object\n",
      "Source                   1048575 non-null object\n",
      "TMC                      1048575 non-null int64\n",
      "Severity                 1048575 non-null int64\n",
      "Start_Time               1048575 non-null datetime64[ns]\n",
      "End_Time                 1048575 non-null datetime64[ns]\n",
      "Start_Lat                1048575 non-null float64\n",
      "Start_Lng                1048575 non-null float64\n",
      "Distance(mi)             1048575 non-null float64\n",
      "Description              1048575 non-null object\n",
      "Number                   1048574 non-null float64\n",
      "Street                   1048575 non-null object\n",
      "Side                     1048575 non-null object\n",
      "City                     1048575 non-null object\n",
      "County                   1048575 non-null object\n",
      "State                    1048575 non-null object\n",
      "Zipcode                  1048575 non-null object\n",
      "Country                  1048575 non-null object\n",
      "Timezone                 1048575 non-null object\n",
      "Airport_Code             1048575 non-null object\n",
      "Weather_Timestamp        1048575 non-null object\n",
      "Temperature(F)           1048575 non-null float64\n",
      "Wind_Chill(F)            1048573 non-null float64\n",
      "Humidity(%)              1048575 non-null float64\n",
      "Pressure(in)             1048575 non-null float64\n",
      "Visibility(mi)           1048575 non-null float64\n",
      "Wind_Direction           1048575 non-null object\n",
      "Wind_Speed(mph)          1048573 non-null float64\n",
      "Precipitation(in)        1048575 non-null float64\n",
      "Weather_Condition        1048575 non-null object\n",
      "Amenity                  1048575 non-null bool\n",
      "Bump                     1048575 non-null bool\n",
      "Crossing                 1048575 non-null bool\n",
      "Give_Way                 1048575 non-null bool\n",
      "Junction                 1048575 non-null bool\n",
      "No_Exit                  1048575 non-null bool\n",
      "Railway                  1048575 non-null bool\n",
      "Roundabout               1048575 non-null bool\n",
      "Station                  1048575 non-null bool\n",
      "Stop                     1048575 non-null bool\n",
      "Traffic_Calming          1048575 non-null bool\n",
      "Traffic_Signal           1048575 non-null bool\n",
      "Turning_Loop             1048575 non-null bool\n",
      "Sunrise_Sunset           1048575 non-null object\n",
      "Civil_Twilight           1048575 non-null object\n",
      "Nautical_Twilight        1048575 non-null object\n",
      "Astronomical_Twilight    1048575 non-null object\n",
      "Year                     1048575 non-null int64\n",
      "Month                    1048575 non-null object\n",
      "Day                      1048575 non-null int64\n",
      "Hour                     1048575 non-null int64\n",
      "Weekday                  1048575 non-null object\n",
      "dtypes: bool(13), datetime64[ns](2), float64(11), int64(5), object(21)\n",
      "memory usage: 325.0+ MB\n"
     ]
    }
   ],
   "source": [
    "df.info()"
   ]
  },
  {
   "cell_type": "code",
   "execution_count": 13,
   "metadata": {},
   "outputs": [],
   "source": [
    "# We still see some missing values, now we will try the 'bfill' method to replace all NaN vales\n",
    "df = df.fillna(method='bfill')"
   ]
  },
  {
   "cell_type": "code",
   "execution_count": 14,
   "metadata": {
    "scrolled": true
   },
   "outputs": [
    {
     "name": "stdout",
     "output_type": "stream",
     "text": [
      "<class 'pandas.core.frame.DataFrame'>\n",
      "RangeIndex: 1048575 entries, 0 to 1048574\n",
      "Data columns (total 52 columns):\n",
      "ID                       1048575 non-null object\n",
      "Source                   1048575 non-null object\n",
      "TMC                      1048575 non-null int64\n",
      "Severity                 1048575 non-null int64\n",
      "Start_Time               1048575 non-null datetime64[ns]\n",
      "End_Time                 1048575 non-null datetime64[ns]\n",
      "Start_Lat                1048575 non-null float64\n",
      "Start_Lng                1048575 non-null float64\n",
      "Distance(mi)             1048575 non-null float64\n",
      "Description              1048575 non-null object\n",
      "Number                   1048575 non-null float64\n",
      "Street                   1048575 non-null object\n",
      "Side                     1048575 non-null object\n",
      "City                     1048575 non-null object\n",
      "County                   1048575 non-null object\n",
      "State                    1048575 non-null object\n",
      "Zipcode                  1048575 non-null object\n",
      "Country                  1048575 non-null object\n",
      "Timezone                 1048575 non-null object\n",
      "Airport_Code             1048575 non-null object\n",
      "Weather_Timestamp        1048575 non-null object\n",
      "Temperature(F)           1048575 non-null float64\n",
      "Wind_Chill(F)            1048575 non-null float64\n",
      "Humidity(%)              1048575 non-null float64\n",
      "Pressure(in)             1048575 non-null float64\n",
      "Visibility(mi)           1048575 non-null float64\n",
      "Wind_Direction           1048575 non-null object\n",
      "Wind_Speed(mph)          1048575 non-null float64\n",
      "Precipitation(in)        1048575 non-null float64\n",
      "Weather_Condition        1048575 non-null object\n",
      "Amenity                  1048575 non-null bool\n",
      "Bump                     1048575 non-null bool\n",
      "Crossing                 1048575 non-null bool\n",
      "Give_Way                 1048575 non-null bool\n",
      "Junction                 1048575 non-null bool\n",
      "No_Exit                  1048575 non-null bool\n",
      "Railway                  1048575 non-null bool\n",
      "Roundabout               1048575 non-null bool\n",
      "Station                  1048575 non-null bool\n",
      "Stop                     1048575 non-null bool\n",
      "Traffic_Calming          1048575 non-null bool\n",
      "Traffic_Signal           1048575 non-null bool\n",
      "Turning_Loop             1048575 non-null bool\n",
      "Sunrise_Sunset           1048575 non-null object\n",
      "Civil_Twilight           1048575 non-null object\n",
      "Nautical_Twilight        1048575 non-null object\n",
      "Astronomical_Twilight    1048575 non-null object\n",
      "Year                     1048575 non-null int64\n",
      "Month                    1048575 non-null object\n",
      "Day                      1048575 non-null int64\n",
      "Hour                     1048575 non-null int64\n",
      "Weekday                  1048575 non-null object\n",
      "dtypes: bool(13), datetime64[ns](2), float64(11), int64(5), object(21)\n",
      "memory usage: 325.0+ MB\n"
     ]
    }
   ],
   "source": [
    "df.info()"
   ]
  },
  {
   "cell_type": "markdown",
   "metadata": {},
   "source": [
    "Now we have replaced all NaN values"
   ]
  },
  {
   "cell_type": "code",
   "execution_count": 15,
   "metadata": {
    "scrolled": true
   },
   "outputs": [
    {
     "data": {
      "text/plain": [
       "['TMC',\n",
       " 'Start_Lat',\n",
       " 'Start_Lng',\n",
       " 'Distance(mi)',\n",
       " 'Number',\n",
       " 'Temperature(F)',\n",
       " 'Wind_Chill(F)',\n",
       " 'Humidity(%)',\n",
       " 'Pressure(in)',\n",
       " 'Visibility(mi)',\n",
       " 'Wind_Speed(mph)',\n",
       " 'Precipitation(in)',\n",
       " 'Amenity',\n",
       " 'Bump',\n",
       " 'Crossing',\n",
       " 'Give_Way',\n",
       " 'Junction',\n",
       " 'No_Exit',\n",
       " 'Railway',\n",
       " 'Roundabout',\n",
       " 'Station',\n",
       " 'Stop',\n",
       " 'Traffic_Calming',\n",
       " 'Traffic_Signal',\n",
       " 'Turning_Loop',\n",
       " 'Year',\n",
       " 'Day',\n",
       " 'Hour']"
      ]
     },
     "execution_count": 15,
     "metadata": {},
     "output_type": "execute_result"
    }
   ],
   "source": [
    "# Now, we will define target and feature variables. Since this project is trying to generate a model to predict the severity of accidents, we will use \"Severrity\" as targetr variable\n",
    "target_names = ['Severity']\n",
    "feature_names = [c for c in df.columns if c not in target_names and df[c].dtype != object and not c.endswith('Time')]\n",
    "feature_names"
   ]
  },
  {
   "cell_type": "code",
   "execution_count": 16,
   "metadata": {},
   "outputs": [
    {
     "name": "stdout",
     "output_type": "stream",
     "text": [
      "(1048575, 28)\n",
      "(1048575, 1)\n"
     ]
    }
   ],
   "source": [
    "# Now, we will name X and y\n",
    "X = df[feature_names]\n",
    "y = df[target_names]\n",
    "print(X.shape)\n",
    "print(y.shape)"
   ]
  },
  {
   "cell_type": "code",
   "execution_count": 17,
   "metadata": {},
   "outputs": [],
   "source": [
    "# Let's import the re\n",
    "from sklearn.model_selection import train_test_split"
   ]
  },
  {
   "cell_type": "code",
   "execution_count": 99,
   "metadata": {},
   "outputs": [],
   "source": [
    "X_train, X_test, y_train, y_test = train_test_split( X, y, test_size=0.09, random_state=30)"
   ]
  },
  {
   "cell_type": "code",
   "execution_count": 100,
   "metadata": {},
   "outputs": [],
   "source": [
    "from sklearn.linear_model import LinearRegression"
   ]
  },
  {
   "cell_type": "code",
   "execution_count": 101,
   "metadata": {},
   "outputs": [
    {
     "data": {
      "text/plain": [
       "LinearRegression(copy_X=True, fit_intercept=True, n_jobs=None, normalize=False)"
      ]
     },
     "execution_count": 101,
     "metadata": {},
     "output_type": "execute_result"
    }
   ],
   "source": [
    "lr = LinearRegression()\n",
    "lr"
   ]
  },
  {
   "cell_type": "code",
   "execution_count": 102,
   "metadata": {},
   "outputs": [],
   "source": [
    "lr.fit(X_train, y_train)\n",
    "trained_score = lr.score(X_train,y_train)\n",
    "test_score = lr.score(X_test,y_test)"
   ]
  },
  {
   "cell_type": "code",
   "execution_count": 103,
   "metadata": {},
   "outputs": [
    {
     "name": "stdout",
     "output_type": "stream",
     "text": [
      "0.1235772149441654\n"
     ]
    }
   ],
   "source": [
    "print(test_score)"
   ]
  },
  {
   "cell_type": "code",
   "execution_count": 22,
   "metadata": {},
   "outputs": [],
   "source": [
    "df.to_csv('accidents_cleaned.csv',index = False)"
   ]
  },
  {
   "cell_type": "code",
   "execution_count": 23,
   "metadata": {},
   "outputs": [],
   "source": [
    "lr.fit(X, y)\n",
    "trained_score2 = lr.score(X,y)\n",
    "test_score2 = lr.score(X,y)"
   ]
  },
  {
   "cell_type": "code",
   "execution_count": 24,
   "metadata": {},
   "outputs": [
    {
     "name": "stdout",
     "output_type": "stream",
     "text": [
      "0.12054739759596023\n"
     ]
    }
   ],
   "source": [
    "print(test_score2)"
   ]
  },
  {
   "cell_type": "code",
   "execution_count": 25,
   "metadata": {},
   "outputs": [
    {
     "name": "stdout",
     "output_type": "stream",
     "text": [
      "0.12054739759596023\n"
     ]
    }
   ],
   "source": [
    "lr.fit(X, y)\n",
    "trained_score2 = lr.score(X,y)\n",
    "test_score2 = lr.score(X,y)\n",
    "print(test_score2)"
   ]
  },
  {
   "cell_type": "code",
   "execution_count": 27,
   "metadata": {},
   "outputs": [
    {
     "name": "stdout",
     "output_type": "stream",
     "text": [
      "0.12004467354411218\n"
     ]
    }
   ],
   "source": [
    "lr.fit(X_train, y_train)\n",
    "trained_score = lr.score(X_train,y_train)\n",
    "test_score = lr.score(X_test,y_test)\n",
    "print(test_score)"
   ]
  },
  {
   "cell_type": "code",
   "execution_count": null,
   "metadata": {},
   "outputs": [],
   "source": []
  }
 ],
 "metadata": {
  "kernelspec": {
   "display_name": "Python 3",
   "language": "python",
   "name": "python3"
  },
  "language_info": {
   "codemirror_mode": {
    "name": "ipython",
    "version": 3
   },
   "file_extension": ".py",
   "mimetype": "text/x-python",
   "name": "python",
   "nbconvert_exporter": "python",
   "pygments_lexer": "ipython3",
   "version": "3.7.4"
  }
 },
 "nbformat": 4,
 "nbformat_minor": 2
}
