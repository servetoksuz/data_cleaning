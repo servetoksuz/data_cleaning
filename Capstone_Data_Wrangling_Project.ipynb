{
 "cells": [
  {
   "cell_type": "code",
   "execution_count": 60,
   "metadata": {},
   "outputs": [],
   "source": [
    "# Import required libraries\n",
    "import numpy as np\n",
    "import pandas as pd\n",
    "import seaborn as sns\n",
    "import matplotlib.pyplot as plt"
   ]
  },
  {
   "cell_type": "code",
   "execution_count": 61,
   "metadata": {},
   "outputs": [
    {
     "data": {
      "text/html": [
       "<div>\n",
       "<style scoped>\n",
       "    .dataframe tbody tr th:only-of-type {\n",
       "        vertical-align: middle;\n",
       "    }\n",
       "\n",
       "    .dataframe tbody tr th {\n",
       "        vertical-align: top;\n",
       "    }\n",
       "\n",
       "    .dataframe thead th {\n",
       "        text-align: right;\n",
       "    }\n",
       "</style>\n",
       "<table border=\"1\" class=\"dataframe\">\n",
       "  <thead>\n",
       "    <tr style=\"text-align: right;\">\n",
       "      <th></th>\n",
       "      <th>ID</th>\n",
       "      <th>Source</th>\n",
       "      <th>TMC</th>\n",
       "      <th>Severity</th>\n",
       "      <th>Start_Time</th>\n",
       "      <th>End_Time</th>\n",
       "      <th>Start_Lat</th>\n",
       "      <th>Start_Lng</th>\n",
       "      <th>End_Lat</th>\n",
       "      <th>End_Lng</th>\n",
       "      <th>...</th>\n",
       "      <th>Roundabout</th>\n",
       "      <th>Station</th>\n",
       "      <th>Stop</th>\n",
       "      <th>Traffic_Calming</th>\n",
       "      <th>Traffic_Signal</th>\n",
       "      <th>Turning_Loop</th>\n",
       "      <th>Sunrise_Sunset</th>\n",
       "      <th>Civil_Twilight</th>\n",
       "      <th>Nautical_Twilight</th>\n",
       "      <th>Astronomical_Twilight</th>\n",
       "    </tr>\n",
       "  </thead>\n",
       "  <tbody>\n",
       "    <tr>\n",
       "      <td>0</td>\n",
       "      <td>A-1</td>\n",
       "      <td>MapQuest</td>\n",
       "      <td>201</td>\n",
       "      <td>3</td>\n",
       "      <td>2/8/2016 5:46</td>\n",
       "      <td>2/8/2016 11:00</td>\n",
       "      <td>39.865147</td>\n",
       "      <td>-84.058723</td>\n",
       "      <td>NaN</td>\n",
       "      <td>NaN</td>\n",
       "      <td>...</td>\n",
       "      <td>False</td>\n",
       "      <td>False</td>\n",
       "      <td>False</td>\n",
       "      <td>False</td>\n",
       "      <td>False</td>\n",
       "      <td>False</td>\n",
       "      <td>Night</td>\n",
       "      <td>Night</td>\n",
       "      <td>Night</td>\n",
       "      <td>Night</td>\n",
       "    </tr>\n",
       "    <tr>\n",
       "      <td>1</td>\n",
       "      <td>A-2</td>\n",
       "      <td>MapQuest</td>\n",
       "      <td>201</td>\n",
       "      <td>2</td>\n",
       "      <td>2/8/2016 6:07</td>\n",
       "      <td>2/8/2016 6:37</td>\n",
       "      <td>39.928059</td>\n",
       "      <td>-82.831184</td>\n",
       "      <td>NaN</td>\n",
       "      <td>NaN</td>\n",
       "      <td>...</td>\n",
       "      <td>False</td>\n",
       "      <td>False</td>\n",
       "      <td>False</td>\n",
       "      <td>False</td>\n",
       "      <td>False</td>\n",
       "      <td>False</td>\n",
       "      <td>Night</td>\n",
       "      <td>Night</td>\n",
       "      <td>Night</td>\n",
       "      <td>Day</td>\n",
       "    </tr>\n",
       "    <tr>\n",
       "      <td>2</td>\n",
       "      <td>A-3</td>\n",
       "      <td>MapQuest</td>\n",
       "      <td>201</td>\n",
       "      <td>2</td>\n",
       "      <td>2/8/2016 6:49</td>\n",
       "      <td>2/8/2016 7:19</td>\n",
       "      <td>39.063148</td>\n",
       "      <td>-84.032608</td>\n",
       "      <td>NaN</td>\n",
       "      <td>NaN</td>\n",
       "      <td>...</td>\n",
       "      <td>False</td>\n",
       "      <td>False</td>\n",
       "      <td>False</td>\n",
       "      <td>False</td>\n",
       "      <td>True</td>\n",
       "      <td>False</td>\n",
       "      <td>Night</td>\n",
       "      <td>Night</td>\n",
       "      <td>Day</td>\n",
       "      <td>Day</td>\n",
       "    </tr>\n",
       "    <tr>\n",
       "      <td>3</td>\n",
       "      <td>A-4</td>\n",
       "      <td>MapQuest</td>\n",
       "      <td>201</td>\n",
       "      <td>3</td>\n",
       "      <td>2/8/2016 7:23</td>\n",
       "      <td>2/8/2016 7:53</td>\n",
       "      <td>39.747753</td>\n",
       "      <td>-84.205582</td>\n",
       "      <td>NaN</td>\n",
       "      <td>NaN</td>\n",
       "      <td>...</td>\n",
       "      <td>False</td>\n",
       "      <td>False</td>\n",
       "      <td>False</td>\n",
       "      <td>False</td>\n",
       "      <td>False</td>\n",
       "      <td>False</td>\n",
       "      <td>Night</td>\n",
       "      <td>Day</td>\n",
       "      <td>Day</td>\n",
       "      <td>Day</td>\n",
       "    </tr>\n",
       "    <tr>\n",
       "      <td>4</td>\n",
       "      <td>A-5</td>\n",
       "      <td>MapQuest</td>\n",
       "      <td>201</td>\n",
       "      <td>2</td>\n",
       "      <td>2/8/2016 7:39</td>\n",
       "      <td>2/8/2016 8:09</td>\n",
       "      <td>39.627781</td>\n",
       "      <td>-84.188354</td>\n",
       "      <td>NaN</td>\n",
       "      <td>NaN</td>\n",
       "      <td>...</td>\n",
       "      <td>False</td>\n",
       "      <td>False</td>\n",
       "      <td>False</td>\n",
       "      <td>False</td>\n",
       "      <td>True</td>\n",
       "      <td>False</td>\n",
       "      <td>Day</td>\n",
       "      <td>Day</td>\n",
       "      <td>Day</td>\n",
       "      <td>Day</td>\n",
       "    </tr>\n",
       "  </tbody>\n",
       "</table>\n",
       "<p>5 rows × 49 columns</p>\n",
       "</div>"
      ],
      "text/plain": [
       "    ID    Source  TMC  Severity     Start_Time        End_Time  Start_Lat  \\\n",
       "0  A-1  MapQuest  201         3  2/8/2016 5:46  2/8/2016 11:00  39.865147   \n",
       "1  A-2  MapQuest  201         2  2/8/2016 6:07   2/8/2016 6:37  39.928059   \n",
       "2  A-3  MapQuest  201         2  2/8/2016 6:49   2/8/2016 7:19  39.063148   \n",
       "3  A-4  MapQuest  201         3  2/8/2016 7:23   2/8/2016 7:53  39.747753   \n",
       "4  A-5  MapQuest  201         2  2/8/2016 7:39   2/8/2016 8:09  39.627781   \n",
       "\n",
       "   Start_Lng  End_Lat  End_Lng  ...  Roundabout Station   Stop  \\\n",
       "0 -84.058723      NaN      NaN  ...       False   False  False   \n",
       "1 -82.831184      NaN      NaN  ...       False   False  False   \n",
       "2 -84.032608      NaN      NaN  ...       False   False  False   \n",
       "3 -84.205582      NaN      NaN  ...       False   False  False   \n",
       "4 -84.188354      NaN      NaN  ...       False   False  False   \n",
       "\n",
       "  Traffic_Calming Traffic_Signal Turning_Loop Sunrise_Sunset Civil_Twilight  \\\n",
       "0           False          False        False          Night          Night   \n",
       "1           False          False        False          Night          Night   \n",
       "2           False           True        False          Night          Night   \n",
       "3           False          False        False          Night            Day   \n",
       "4           False           True        False            Day            Day   \n",
       "\n",
       "  Nautical_Twilight Astronomical_Twilight  \n",
       "0             Night                 Night  \n",
       "1             Night                   Day  \n",
       "2               Day                   Day  \n",
       "3               Day                   Day  \n",
       "4               Day                   Day  \n",
       "\n",
       "[5 rows x 49 columns]"
      ]
     },
     "execution_count": 61,
     "metadata": {},
     "output_type": "execute_result"
    }
   ],
   "source": [
    "# Import the csv file: Accident_Data\n",
    "df = pd.read_csv('C:\\\\Users\\Servet\\Desktop\\Project1 Files\\Accidents.csv')\n",
    "df.head()"
   ]
  },
  {
   "cell_type": "code",
   "execution_count": 62,
   "metadata": {
    "scrolled": true
   },
   "outputs": [
    {
     "name": "stdout",
     "output_type": "stream",
     "text": [
      "<class 'pandas.core.frame.DataFrame'>\n",
      "RangeIndex: 1048575 entries, 0 to 1048574\n",
      "Data columns (total 49 columns):\n",
      "ID                       1048575 non-null object\n",
      "Source                   1048575 non-null object\n",
      "TMC                      1048575 non-null int64\n",
      "Severity                 1048575 non-null int64\n",
      "Start_Time               1048575 non-null object\n",
      "End_Time                 1048575 non-null object\n",
      "Start_Lat                1048575 non-null float64\n",
      "Start_Lng                1048575 non-null float64\n",
      "End_Lat                  0 non-null float64\n",
      "End_Lng                  0 non-null float64\n",
      "Distance(mi)             1048575 non-null float64\n",
      "Description              1048574 non-null object\n",
      "Number                   396803 non-null float64\n",
      "Street                   1048575 non-null object\n",
      "Side                     1048575 non-null object\n",
      "City                     1048548 non-null object\n",
      "County                   1048575 non-null object\n",
      "State                    1048575 non-null object\n",
      "Zipcode                  1048435 non-null object\n",
      "Country                  1048575 non-null object\n",
      "Timezone                 1047994 non-null object\n",
      "Airport_Code             1038285 non-null object\n",
      "Weather_Timestamp        1030944 non-null object\n",
      "Temperature(F)           1024516 non-null float64\n",
      "Wind_Chill(F)            173430 non-null float64\n",
      "Humidity(%)              1023464 non-null float64\n",
      "Pressure(in)             1027506 non-null float64\n",
      "Visibility(mi)           1019602 non-null float64\n",
      "Wind_Direction           1030936 non-null object\n",
      "Wind_Speed(mph)          840947 non-null float64\n",
      "Precipitation(in)        121520 non-null float64\n",
      "Weather_Condition        1019624 non-null object\n",
      "Amenity                  1048575 non-null bool\n",
      "Bump                     1048575 non-null bool\n",
      "Crossing                 1048575 non-null bool\n",
      "Give_Way                 1048575 non-null bool\n",
      "Junction                 1048575 non-null bool\n",
      "No_Exit                  1048575 non-null bool\n",
      "Railway                  1048575 non-null bool\n",
      "Roundabout               1048575 non-null bool\n",
      "Station                  1048575 non-null bool\n",
      "Stop                     1048575 non-null bool\n",
      "Traffic_Calming          1048575 non-null bool\n",
      "Traffic_Signal           1048575 non-null bool\n",
      "Turning_Loop             1048575 non-null bool\n",
      "Sunrise_Sunset           1048546 non-null object\n",
      "Civil_Twilight           1048546 non-null object\n",
      "Nautical_Twilight        1048546 non-null object\n",
      "Astronomical_Twilight    1048546 non-null object\n",
      "dtypes: bool(13), float64(13), int64(2), object(21)\n",
      "memory usage: 301.0+ MB\n"
     ]
    }
   ],
   "source": [
    "# Get some summary details about the Data Frame\n",
    "df.info()"
   ]
  },
  {
   "cell_type": "markdown",
   "metadata": {},
   "source": [
    "We observe that, some columns have missing values and two columns have no values. We will firstly focus on filling the missing values."
   ]
  },
  {
   "cell_type": "code",
   "execution_count": 63,
   "metadata": {},
   "outputs": [
    {
     "name": "stdout",
     "output_type": "stream",
     "text": [
      "The DataFrame has 1048575 rows and 47 columns\n"
     ]
    }
   ],
   "source": [
    "#Since there are no informatiojn in two columns, we will drop them\n",
    "df = df.drop(columns = ['End_Lat', 'End_Lng'])\n",
    "print('The DataFrame has {} rows and {} columns'.format(df.shape[0],df.shape[1]))"
   ]
  },
  {
   "cell_type": "code",
   "execution_count": 64,
   "metadata": {},
   "outputs": [
    {
     "data": {
      "text/plain": [
       "Precipitation(in)        927055\n",
       "Wind_Chill(F)            875145\n",
       "Number                   651772\n",
       "Wind_Speed(mph)          207628\n",
       "Visibility(mi)            28973\n",
       "Weather_Condition         28951\n",
       "Humidity(%)               25111\n",
       "Temperature(F)            24059\n",
       "Pressure(in)              21069\n",
       "Wind_Direction            17639\n",
       "Weather_Timestamp         17631\n",
       "Airport_Code              10290\n",
       "Timezone                    581\n",
       "Zipcode                     140\n",
       "Nautical_Twilight            29\n",
       "Astronomical_Twilight        29\n",
       "Civil_Twilight               29\n",
       "Sunrise_Sunset               29\n",
       "City                         27\n",
       "Description                   1\n",
       "dtype: int64"
      ]
     },
     "execution_count": 64,
     "metadata": {},
     "output_type": "execute_result"
    }
   ],
   "source": [
    "# Let's check the total missing values in each entry\n",
    "missing_values = df.isnull().sum().sort_values(ascending=False)\n",
    "missing_values_list = missing_values[missing_values>=1]\n",
    "missing_values_list"
   ]
  },
  {
   "cell_type": "code",
   "execution_count": 65,
   "metadata": {},
   "outputs": [],
   "source": [
    "# When and humidity, precipitation and wind speed values are missing, we will fill those missing cells with the mean values of the correspomding column.\n",
    "df['Precipitation_isnull'] = df['Precipitation(in)'].isnull().astype(int)\n",
    "df['Precipitation(in)']=df['Precipitation(in)'].fillna(df['Precipitation(in)'].mean())\n",
    "df['Humidity_isnull'] = df['Humidity(%)'].isnull().astype(int)\n",
    "df['Humidity(%)'] = df['Humidity(%)'].fillna(df['Humidity(%)'].mean())\n",
    "df['Wind_Speed_isnull'] = df['Wind_Speed(mph)'].isnull().astype(int)\n",
    "df['Wind_Speed(mph)'] = df['Wind_Speed(mph)'].fillna(df['Wind_Speed(mph)'].mean())"
   ]
  },
  {
   "cell_type": "code",
   "execution_count": 66,
   "metadata": {},
   "outputs": [],
   "source": [
    "# Pressure(in)  column can be filled with average values\n",
    "df['Pressure_isnull'] = df['Pressure(in)'].isnull().astype(int)\n",
    "df['Pressure(in)'] = df['Pressure(in)'].fillna(df['Pressure(in)'].mean())"
   ]
  },
  {
   "cell_type": "code",
   "execution_count": 67,
   "metadata": {},
   "outputs": [],
   "source": [
    "# Temperature(F)  column can be filled with average Temperature for that state\n",
    "df['Temperature_isnull'] = df['Temperature(F)'].isnull().astype(int)\n",
    "df['Temperature(F)'] = df.groupby('State')['Temperature(F)'].transform(lambda grp: grp.fillna(grp.mean()))\n"
   ]
  },
  {
   "cell_type": "code",
   "execution_count": 68,
   "metadata": {},
   "outputs": [],
   "source": [
    "# We will fill the 'Wind_Chill(F)' values by corresponding Temperatures.\n",
    "df['Windchill_isnull'] = df['Wind_Chill(F)'].isnull().astype(int)\n",
    "df['Wind_Chill(F)'] = df['Wind_Chill(F)'].fillna(df['Temperature(F)'])"
   ]
  },
  {
   "cell_type": "code",
   "execution_count": 69,
   "metadata": {},
   "outputs": [
    {
     "data": {
      "text/plain": [
       "Number                   651772\n",
       "Visibility(mi)            28973\n",
       "Weather_Condition         28951\n",
       "Wind_Direction            17639\n",
       "Weather_Timestamp         17631\n",
       "Airport_Code              10290\n",
       "Timezone                    581\n",
       "Zipcode                     140\n",
       "Astronomical_Twilight        29\n",
       "Nautical_Twilight            29\n",
       "Civil_Twilight               29\n",
       "Sunrise_Sunset               29\n",
       "City                         27\n",
       "Description                   1\n",
       "dtype: int64"
      ]
     },
     "execution_count": 69,
     "metadata": {},
     "output_type": "execute_result"
    }
   ],
   "source": [
    "# Let's check the total missing values once again\n",
    "missing_values = df.isnull().sum().sort_values(ascending=False)\n",
    "missing_values_list = missing_values[missing_values>=1]\n",
    "missing_values_list"
   ]
  },
  {
   "cell_type": "code",
   "execution_count": 70,
   "metadata": {},
   "outputs": [],
   "source": [
    "# We will fill the Weather Condition and Description\n",
    "df['Weather_isnull'] = df['Weather_Condition'].isnull().astype(int)\n",
    "df['Weather_Condition'] = df['Weather_Condition'].fillna('NaN')\n",
    "df['Description_isnull'] = df['Description'].isnull().astype(int)\n",
    "df['Description'] = df['Description'].fillna('Accident')"
   ]
  },
  {
   "cell_type": "code",
   "execution_count": 71,
   "metadata": {},
   "outputs": [
    {
     "data": {
      "text/plain": [
       "Number                   651772\n",
       "Visibility(mi)            28973\n",
       "Wind_Direction            17639\n",
       "Weather_Timestamp         17631\n",
       "Airport_Code              10290\n",
       "Timezone                    581\n",
       "Zipcode                     140\n",
       "Astronomical_Twilight        29\n",
       "Nautical_Twilight            29\n",
       "Civil_Twilight               29\n",
       "Sunrise_Sunset               29\n",
       "City                         27\n",
       "dtype: int64"
      ]
     },
     "execution_count": 71,
     "metadata": {},
     "output_type": "execute_result"
    }
   ],
   "source": [
    "# Let's check the total missing values once again\n",
    "missing_values = df.isnull().sum().sort_values(ascending=False)\n",
    "missing_values_list = missing_values[missing_values>=1]\n",
    "missing_values_list"
   ]
  },
  {
   "cell_type": "code",
   "execution_count": 72,
   "metadata": {},
   "outputs": [],
   "source": [
    "# We will fill the missing values in \"city\" column by the most coommon cities in that city \n",
    "df['City_isnull'] = df['City'].isnull().astype(int)\n",
    "df['City'] = df['City'].fillna('NaN')"
   ]
  },
  {
   "cell_type": "code",
   "execution_count": 73,
   "metadata": {},
   "outputs": [],
   "source": [
    "# We will fill the 'Timezone' column by the most coommon time zones in that  State\n",
    "df['Timezone_isnull']= df['Timezone'].isnull().astype(int)\n",
    "df['Timezone'] = df.groupby('State')['Timezone'].transform(lambda tz: tz.fillna(tz.value_counts().index[0]))\n"
   ]
  },
  {
   "cell_type": "code",
   "execution_count": 74,
   "metadata": {},
   "outputs": [],
   "source": [
    "# We will fill the \"Zipcode\" and \"Airport_Code\" the most coommon time zones in that State\n",
    "df['Zipcode_isnull'] = df['Zipcode'].isnull().astype(int)\n",
    "df['Zipcode'] = df.groupby('State')['Zipcode'].transform(lambda zc: zc.fillna(zc.value_counts().index[0]))\n",
    "df['Airport_Code_isnull'] = df['Airport_Code'].isnull().astype(int)\n",
    "df['Airport_Code'] = df.groupby('State')['Airport_Code'].transform(lambda ac: ac.fillna(ac.value_counts().index[0]))"
   ]
  },
  {
   "cell_type": "code",
   "execution_count": 75,
   "metadata": {
    "scrolled": true
   },
   "outputs": [
    {
     "data": {
      "text/plain": [
       "Number                   651772\n",
       "Visibility(mi)            28973\n",
       "Wind_Direction            17639\n",
       "Weather_Timestamp         17631\n",
       "Civil_Twilight               29\n",
       "Nautical_Twilight            29\n",
       "Astronomical_Twilight        29\n",
       "Sunrise_Sunset               29\n",
       "dtype: int64"
      ]
     },
     "execution_count": 75,
     "metadata": {},
     "output_type": "execute_result"
    }
   ],
   "source": [
    "# Let's check the total missing values once again\n",
    "missing_values = df.isnull().sum().sort_values(ascending=False)\n",
    "missing_values_list = missing_values[missing_values>=1]\n",
    "missing_values_list"
   ]
  },
  {
   "cell_type": "code",
   "execution_count": 76,
   "metadata": {},
   "outputs": [
    {
     "data": {
      "text/html": [
       "<div>\n",
       "<style scoped>\n",
       "    .dataframe tbody tr th:only-of-type {\n",
       "        vertical-align: middle;\n",
       "    }\n",
       "\n",
       "    .dataframe tbody tr th {\n",
       "        vertical-align: top;\n",
       "    }\n",
       "\n",
       "    .dataframe thead th {\n",
       "        text-align: right;\n",
       "    }\n",
       "</style>\n",
       "<table border=\"1\" class=\"dataframe\">\n",
       "  <thead>\n",
       "    <tr style=\"text-align: right;\">\n",
       "      <th></th>\n",
       "      <th>Total</th>\n",
       "      <th>Data Types</th>\n",
       "    </tr>\n",
       "  </thead>\n",
       "  <tbody>\n",
       "    <tr>\n",
       "      <td>Number</td>\n",
       "      <td>651772</td>\n",
       "      <td>float64</td>\n",
       "    </tr>\n",
       "    <tr>\n",
       "      <td>Visibility(mi)</td>\n",
       "      <td>28973</td>\n",
       "      <td>float64</td>\n",
       "    </tr>\n",
       "    <tr>\n",
       "      <td>Wind_Direction</td>\n",
       "      <td>17639</td>\n",
       "      <td>object</td>\n",
       "    </tr>\n",
       "    <tr>\n",
       "      <td>Weather_Timestamp</td>\n",
       "      <td>17631</td>\n",
       "      <td>object</td>\n",
       "    </tr>\n",
       "    <tr>\n",
       "      <td>Civil_Twilight</td>\n",
       "      <td>29</td>\n",
       "      <td>object</td>\n",
       "    </tr>\n",
       "    <tr>\n",
       "      <td>Nautical_Twilight</td>\n",
       "      <td>29</td>\n",
       "      <td>object</td>\n",
       "    </tr>\n",
       "    <tr>\n",
       "      <td>Astronomical_Twilight</td>\n",
       "      <td>29</td>\n",
       "      <td>object</td>\n",
       "    </tr>\n",
       "    <tr>\n",
       "      <td>Sunrise_Sunset</td>\n",
       "      <td>29</td>\n",
       "      <td>object</td>\n",
       "    </tr>\n",
       "  </tbody>\n",
       "</table>\n",
       "</div>"
      ],
      "text/plain": [
       "                        Total Data Types\n",
       "Number                 651772    float64\n",
       "Visibility(mi)          28973    float64\n",
       "Wind_Direction          17639     object\n",
       "Weather_Timestamp       17631     object\n",
       "Civil_Twilight             29     object\n",
       "Nautical_Twilight          29     object\n",
       "Astronomical_Twilight      29     object\n",
       "Sunrise_Sunset             29     object"
      ]
     },
     "execution_count": 76,
     "metadata": {},
     "output_type": "execute_result"
    }
   ],
   "source": [
    "missing_df = pd.concat([missing_values,df[missing_values.index].dtypes], axis=1, keys=['Total','Data Types'],sort=False)\n",
    "missing_df[missing_df['Total']>=1]"
   ]
  },
  {
   "cell_type": "code",
   "execution_count": 77,
   "metadata": {},
   "outputs": [],
   "source": [
    "missing_copy = missing_df[missing_df['Total']>=1].copy()"
   ]
  },
  {
   "cell_type": "code",
   "execution_count": 78,
   "metadata": {},
   "outputs": [
    {
     "data": {
      "text/html": [
       "<div>\n",
       "<style scoped>\n",
       "    .dataframe tbody tr th:only-of-type {\n",
       "        vertical-align: middle;\n",
       "    }\n",
       "\n",
       "    .dataframe tbody tr th {\n",
       "        vertical-align: top;\n",
       "    }\n",
       "\n",
       "    .dataframe thead th {\n",
       "        text-align: right;\n",
       "    }\n",
       "</style>\n",
       "<table border=\"1\" class=\"dataframe\">\n",
       "  <thead>\n",
       "    <tr style=\"text-align: right;\">\n",
       "      <th></th>\n",
       "      <th>Wind_Direction</th>\n",
       "      <th>Weather_Timestamp</th>\n",
       "      <th>Civil_Twilight</th>\n",
       "      <th>Nautical_Twilight</th>\n",
       "      <th>Astronomical_Twilight</th>\n",
       "      <th>Sunrise_Sunset</th>\n",
       "    </tr>\n",
       "  </thead>\n",
       "  <tbody>\n",
       "    <tr>\n",
       "      <td>0</td>\n",
       "      <td>Calm</td>\n",
       "      <td>2/8/2016 5:58</td>\n",
       "      <td>Night</td>\n",
       "      <td>Night</td>\n",
       "      <td>Night</td>\n",
       "      <td>Night</td>\n",
       "    </tr>\n",
       "    <tr>\n",
       "      <td>1</td>\n",
       "      <td>Calm</td>\n",
       "      <td>2/8/2016 5:51</td>\n",
       "      <td>Night</td>\n",
       "      <td>Night</td>\n",
       "      <td>Day</td>\n",
       "      <td>Night</td>\n",
       "    </tr>\n",
       "    <tr>\n",
       "      <td>2</td>\n",
       "      <td>SW</td>\n",
       "      <td>2/8/2016 6:56</td>\n",
       "      <td>Night</td>\n",
       "      <td>Day</td>\n",
       "      <td>Day</td>\n",
       "      <td>Night</td>\n",
       "    </tr>\n",
       "    <tr>\n",
       "      <td>3</td>\n",
       "      <td>SW</td>\n",
       "      <td>2/8/2016 7:38</td>\n",
       "      <td>Day</td>\n",
       "      <td>Day</td>\n",
       "      <td>Day</td>\n",
       "      <td>Night</td>\n",
       "    </tr>\n",
       "    <tr>\n",
       "      <td>4</td>\n",
       "      <td>SW</td>\n",
       "      <td>2/8/2016 7:53</td>\n",
       "      <td>Day</td>\n",
       "      <td>Day</td>\n",
       "      <td>Day</td>\n",
       "      <td>Day</td>\n",
       "    </tr>\n",
       "  </tbody>\n",
       "</table>\n",
       "</div>"
      ],
      "text/plain": [
       "  Wind_Direction Weather_Timestamp Civil_Twilight Nautical_Twilight  \\\n",
       "0           Calm     2/8/2016 5:58          Night             Night   \n",
       "1           Calm     2/8/2016 5:51          Night             Night   \n",
       "2             SW     2/8/2016 6:56          Night               Day   \n",
       "3             SW     2/8/2016 7:38            Day               Day   \n",
       "4             SW     2/8/2016 7:53            Day               Day   \n",
       "\n",
       "  Astronomical_Twilight Sunrise_Sunset  \n",
       "0                 Night          Night  \n",
       "1                   Day          Night  \n",
       "2                   Day          Night  \n",
       "3                   Day          Night  \n",
       "4                   Day            Day  "
      ]
     },
     "execution_count": 78,
     "metadata": {},
     "output_type": "execute_result"
    }
   ],
   "source": [
    "object_columns = missing_copy[missing_copy['Data Types']=='object'].index\n",
    "df[object_columns].head()"
   ]
  },
  {
   "cell_type": "code",
   "execution_count": 79,
   "metadata": {},
   "outputs": [
    {
     "data": {
      "text/plain": [
       "Number                   651772\n",
       "Visibility(mi)            28973\n",
       "Wind_Direction            17639\n",
       "Weather_Timestamp         17631\n",
       "Civil_Twilight               29\n",
       "Nautical_Twilight            29\n",
       "Astronomical_Twilight        29\n",
       "Sunrise_Sunset               29\n",
       "dtype: int64"
      ]
     },
     "execution_count": 79,
     "metadata": {},
     "output_type": "execute_result"
    }
   ],
   "source": [
    "# Let's check the total missing values once again\n",
    "missing_values = df.isnull().sum().sort_values(ascending=False)\n",
    "missing_values_list = missing_values[missing_values>=1]\n",
    "missing_values_list"
   ]
  },
  {
   "cell_type": "code",
   "execution_count": 80,
   "metadata": {},
   "outputs": [],
   "source": [
    "# Convert Start_Time and End_Time to datetypes\n",
    "df['Start_Time'] = pd.to_datetime(df['Start_Time'], errors='coerce')\n",
    "df['End_Time'] = pd.to_datetime(df['End_Time'], errors='coerce')\n",
    "\n",
    "# Extract year, month, day, hour and weekday\n",
    "df['Year']=df['Start_Time'].dt.year\n",
    "df['Month']=df['Start_Time'].dt.strftime('%b')\n",
    "df['Day']=df['Start_Time'].dt.day\n",
    "df['Hour']=df['Start_Time'].dt.hour\n",
    "df['Weekday']=df['Start_Time'].dt.strftime('%a')"
   ]
  },
  {
   "cell_type": "code",
   "execution_count": 81,
   "metadata": {},
   "outputs": [],
   "source": [
    "# We will fill make new colums with Booleans \n",
    "df['Nautical_Twilight_isnull'] = df['Nautical_Twilight'].isnull().astype(int)\n",
    "df['Sunrise_Sunset_isnull'] = df['Sunrise_Sunset'].isnull().astype(int)\n",
    "df['Civil_Twilight_isnull'] = df['Civil_Twilight'].isnull().astype(int)\n",
    "df['Astronomical_Twilight_isnull'] = df['Astronomical_Twilight'].isnull().astype(int)"
   ]
  },
  {
   "cell_type": "code",
   "execution_count": 82,
   "metadata": {},
   "outputs": [],
   "source": [
    "# We will fill \"Day' and 'Night' according to the Start Time. We will define a function: Filler and pass those columns into the function\n",
    "def filler(df,columns):\n",
    "    # get list comprising column missing data\n",
    "    lst = df[df[columns].isna()].index\n",
    "    for i in lst:\n",
    "        if 6<= df.loc[i,'Start_Time'].hour and df.loc[i,'Start_Time'].hour <18:\n",
    "            df[columns] = df[columns].fillna('Day')\n",
    "        else:\n",
    "            df[columns] = df[columns].fillna('Night')\n",
    "\n",
    "\n",
    "filler(df,'Nautical_Twilight')\n",
    "filler(df,'Sunrise_Sunset')\n",
    "filler(df,'Civil_Twilight')\n",
    "filler(df,'Astronomical_Twilight')"
   ]
  },
  {
   "cell_type": "code",
   "execution_count": 83,
   "metadata": {},
   "outputs": [],
   "source": [
    "# We will fill Weather Timestamp with Start_Time\n",
    "df['Weather_Timestamp_isnull'] = df['Weather_Timestamp'].isnull().astype(int)\n",
    "df['Weather_Timestamp'] = df['Weather_Timestamp'].fillna(df['Start_Time'])"
   ]
  },
  {
   "cell_type": "code",
   "execution_count": 84,
   "metadata": {},
   "outputs": [],
   "source": [
    "# We will fill the missing Wind Dircetions with the most common values in corresponding \n",
    "df['Wind_Direction_isnull'] = df['Wind_Direction'].isnull().astype(int)\n",
    "df['Wind_Direction'] = df['Wind_Direction'].fillna('NaN')"
   ]
  },
  {
   "cell_type": "code",
   "execution_count": 85,
   "metadata": {},
   "outputs": [
    {
     "data": {
      "text/plain": [
       "Number            651772\n",
       "Visibility(mi)     28973\n",
       "dtype: int64"
      ]
     },
     "execution_count": 85,
     "metadata": {},
     "output_type": "execute_result"
    }
   ],
   "source": [
    "# Let's check the total missing values once again\n",
    "missing_values = df.isnull().sum().sort_values(ascending=False)\n",
    "missing_values_list = missing_values[missing_values>=1]\n",
    "missing_values_list"
   ]
  },
  {
   "cell_type": "code",
   "execution_count": 86,
   "metadata": {},
   "outputs": [],
   "source": [
    "# Since Visibility(mi) is float64, we can fill with mean\n",
    "df['Visibility(mi)_isnull'] = df['Visibility(mi)'].isnull().astype(int)\n",
    "df['Visibility(mi)'] = df['Visibility(mi)'].fillna(df['Visibility(mi)'].mean())"
   ]
  },
  {
   "cell_type": "code",
   "execution_count": 87,
   "metadata": {},
   "outputs": [
    {
     "data": {
      "text/plain": [
       "Number    651772\n",
       "dtype: int64"
      ]
     },
     "execution_count": 87,
     "metadata": {},
     "output_type": "execute_result"
    }
   ],
   "source": [
    "# Let's check the total missing values once again\n",
    "missing_values = df.isnull().sum().sort_values(ascending=False)\n",
    "missing_values_list = missing_values[missing_values>=1]\n",
    "missing_values_list"
   ]
  },
  {
   "cell_type": "code",
   "execution_count": 88,
   "metadata": {},
   "outputs": [],
   "source": [
    "#We fill each missing number by the average number on each zipcode\n",
    "df['Number_isnull'] = df['Number'].isnull().astype(int)\n",
    "df['Number'] = df.groupby('Zipcode')['Number'].transform(lambda nmbr: nmbr.fillna(nmbr.mean()))"
   ]
  },
  {
   "cell_type": "code",
   "execution_count": 89,
   "metadata": {},
   "outputs": [
    {
     "data": {
      "text/plain": [
       "Number    87768\n",
       "dtype: int64"
      ]
     },
     "execution_count": 89,
     "metadata": {},
     "output_type": "execute_result"
    }
   ],
   "source": [
    "# Let's check the total missing values once again\n",
    "missing_values = df.isnull().sum().sort_values(ascending=False)\n",
    "missing_values_list = missing_values[missing_values>=1]\n",
    "missing_values_list"
   ]
  },
  {
   "cell_type": "markdown",
   "metadata": {},
   "source": [
    "There are still some missing values, due to the no street number recorded in some zipcodes. So we can use the same grouping process with average number on state."
   ]
  },
  {
   "cell_type": "code",
   "execution_count": 90,
   "metadata": {},
   "outputs": [],
   "source": [
    "df['Number'] = df.groupby('State')['Number'].transform(lambda nmbr: nmbr.fillna(nmbr.mean()))"
   ]
  },
  {
   "cell_type": "code",
   "execution_count": 91,
   "metadata": {},
   "outputs": [
    {
     "data": {
      "text/plain": [
       "Number    5\n",
       "dtype: int64"
      ]
     },
     "execution_count": 91,
     "metadata": {},
     "output_type": "execute_result"
    }
   ],
   "source": [
    "# Let's check the total missing values once again\n",
    "missing_values = df.isnull().sum().sort_values(ascending=False)\n",
    "missing_values_list = missing_values[missing_values>=1]\n",
    "missing_values_list"
   ]
  },
  {
   "cell_type": "code",
   "execution_count": 92,
   "metadata": {},
   "outputs": [],
   "source": [
    "# Now only 5 numbers are left, and we will fill with those 5 with mean\n",
    "df['Number']  = df['Number'] .fillna(df['Number'] .mean())"
   ]
  },
  {
   "cell_type": "code",
   "execution_count": 93,
   "metadata": {},
   "outputs": [
    {
     "data": {
      "text/plain": [
       "Series([], dtype: int64)"
      ]
     },
     "execution_count": 93,
     "metadata": {},
     "output_type": "execute_result"
    }
   ],
   "source": [
    "# Let's check the total missing values once again\n",
    "missing_values = df.isnull().sum().sort_values(ascending=False)\n",
    "missing_values_list = missing_values[missing_values>=1]\n",
    "missing_values_list"
   ]
  },
  {
   "cell_type": "markdown",
   "metadata": {},
   "source": [
    "Finally, we fill all the missing values, and now we can get some information about the Data Frame"
   ]
  },
  {
   "cell_type": "code",
   "execution_count": 94,
   "metadata": {},
   "outputs": [
    {
     "data": {
      "text/html": [
       "<div>\n",
       "<style scoped>\n",
       "    .dataframe tbody tr th:only-of-type {\n",
       "        vertical-align: middle;\n",
       "    }\n",
       "\n",
       "    .dataframe tbody tr th {\n",
       "        vertical-align: top;\n",
       "    }\n",
       "\n",
       "    .dataframe thead th {\n",
       "        text-align: right;\n",
       "    }\n",
       "</style>\n",
       "<table border=\"1\" class=\"dataframe\">\n",
       "  <thead>\n",
       "    <tr style=\"text-align: right;\">\n",
       "      <th></th>\n",
       "      <th>ID</th>\n",
       "      <th>Source</th>\n",
       "      <th>TMC</th>\n",
       "      <th>Severity</th>\n",
       "      <th>Start_Time</th>\n",
       "      <th>End_Time</th>\n",
       "      <th>Start_Lat</th>\n",
       "      <th>Start_Lng</th>\n",
       "      <th>Distance(mi)</th>\n",
       "      <th>Description</th>\n",
       "      <th>...</th>\n",
       "      <th>Hour</th>\n",
       "      <th>Weekday</th>\n",
       "      <th>Nautical_Twilight_isnull</th>\n",
       "      <th>Sunrise_Sunset_isnull</th>\n",
       "      <th>Civil_Twilight_isnull</th>\n",
       "      <th>Astronomical_Twilight_isnull</th>\n",
       "      <th>Weather_Timestamp_isnull</th>\n",
       "      <th>Wind_Direction_isnull</th>\n",
       "      <th>Visibility(mi)_isnull</th>\n",
       "      <th>Number_isnull</th>\n",
       "    </tr>\n",
       "  </thead>\n",
       "  <tbody>\n",
       "    <tr>\n",
       "      <td>0</td>\n",
       "      <td>A-1</td>\n",
       "      <td>MapQuest</td>\n",
       "      <td>201</td>\n",
       "      <td>3</td>\n",
       "      <td>2016-02-08 05:46:00</td>\n",
       "      <td>2016-02-08 11:00:00</td>\n",
       "      <td>39.865147</td>\n",
       "      <td>-84.058723</td>\n",
       "      <td>0.01</td>\n",
       "      <td>Right lane blocked due to accident on I-70 Eas...</td>\n",
       "      <td>...</td>\n",
       "      <td>5</td>\n",
       "      <td>Mon</td>\n",
       "      <td>0</td>\n",
       "      <td>0</td>\n",
       "      <td>0</td>\n",
       "      <td>0</td>\n",
       "      <td>0</td>\n",
       "      <td>0</td>\n",
       "      <td>0</td>\n",
       "      <td>1</td>\n",
       "    </tr>\n",
       "    <tr>\n",
       "      <td>1</td>\n",
       "      <td>A-2</td>\n",
       "      <td>MapQuest</td>\n",
       "      <td>201</td>\n",
       "      <td>2</td>\n",
       "      <td>2016-02-08 06:07:00</td>\n",
       "      <td>2016-02-08 06:37:00</td>\n",
       "      <td>39.928059</td>\n",
       "      <td>-82.831184</td>\n",
       "      <td>0.01</td>\n",
       "      <td>Accident on Brice Rd at Tussing Rd. Expect del...</td>\n",
       "      <td>...</td>\n",
       "      <td>6</td>\n",
       "      <td>Mon</td>\n",
       "      <td>0</td>\n",
       "      <td>0</td>\n",
       "      <td>0</td>\n",
       "      <td>0</td>\n",
       "      <td>0</td>\n",
       "      <td>0</td>\n",
       "      <td>0</td>\n",
       "      <td>0</td>\n",
       "    </tr>\n",
       "    <tr>\n",
       "      <td>2</td>\n",
       "      <td>A-3</td>\n",
       "      <td>MapQuest</td>\n",
       "      <td>201</td>\n",
       "      <td>2</td>\n",
       "      <td>2016-02-08 06:49:00</td>\n",
       "      <td>2016-02-08 07:19:00</td>\n",
       "      <td>39.063148</td>\n",
       "      <td>-84.032608</td>\n",
       "      <td>0.01</td>\n",
       "      <td>Accident on OH-32 State Route 32 Westbound at ...</td>\n",
       "      <td>...</td>\n",
       "      <td>6</td>\n",
       "      <td>Mon</td>\n",
       "      <td>0</td>\n",
       "      <td>0</td>\n",
       "      <td>0</td>\n",
       "      <td>0</td>\n",
       "      <td>0</td>\n",
       "      <td>0</td>\n",
       "      <td>0</td>\n",
       "      <td>1</td>\n",
       "    </tr>\n",
       "    <tr>\n",
       "      <td>3</td>\n",
       "      <td>A-4</td>\n",
       "      <td>MapQuest</td>\n",
       "      <td>201</td>\n",
       "      <td>3</td>\n",
       "      <td>2016-02-08 07:23:00</td>\n",
       "      <td>2016-02-08 07:53:00</td>\n",
       "      <td>39.747753</td>\n",
       "      <td>-84.205582</td>\n",
       "      <td>0.01</td>\n",
       "      <td>Accident on I-75 Southbound at Exits 52 52B US...</td>\n",
       "      <td>...</td>\n",
       "      <td>7</td>\n",
       "      <td>Mon</td>\n",
       "      <td>0</td>\n",
       "      <td>0</td>\n",
       "      <td>0</td>\n",
       "      <td>0</td>\n",
       "      <td>0</td>\n",
       "      <td>0</td>\n",
       "      <td>0</td>\n",
       "      <td>1</td>\n",
       "    </tr>\n",
       "    <tr>\n",
       "      <td>4</td>\n",
       "      <td>A-5</td>\n",
       "      <td>MapQuest</td>\n",
       "      <td>201</td>\n",
       "      <td>2</td>\n",
       "      <td>2016-02-08 07:39:00</td>\n",
       "      <td>2016-02-08 08:09:00</td>\n",
       "      <td>39.627781</td>\n",
       "      <td>-84.188354</td>\n",
       "      <td>0.01</td>\n",
       "      <td>Accident on McEwen Rd at OH-725 Miamisburg Cen...</td>\n",
       "      <td>...</td>\n",
       "      <td>7</td>\n",
       "      <td>Mon</td>\n",
       "      <td>0</td>\n",
       "      <td>0</td>\n",
       "      <td>0</td>\n",
       "      <td>0</td>\n",
       "      <td>0</td>\n",
       "      <td>0</td>\n",
       "      <td>0</td>\n",
       "      <td>1</td>\n",
       "    </tr>\n",
       "  </tbody>\n",
       "</table>\n",
       "<p>5 rows × 72 columns</p>\n",
       "</div>"
      ],
      "text/plain": [
       "    ID    Source  TMC  Severity          Start_Time            End_Time  \\\n",
       "0  A-1  MapQuest  201         3 2016-02-08 05:46:00 2016-02-08 11:00:00   \n",
       "1  A-2  MapQuest  201         2 2016-02-08 06:07:00 2016-02-08 06:37:00   \n",
       "2  A-3  MapQuest  201         2 2016-02-08 06:49:00 2016-02-08 07:19:00   \n",
       "3  A-4  MapQuest  201         3 2016-02-08 07:23:00 2016-02-08 07:53:00   \n",
       "4  A-5  MapQuest  201         2 2016-02-08 07:39:00 2016-02-08 08:09:00   \n",
       "\n",
       "   Start_Lat  Start_Lng  Distance(mi)  \\\n",
       "0  39.865147 -84.058723          0.01   \n",
       "1  39.928059 -82.831184          0.01   \n",
       "2  39.063148 -84.032608          0.01   \n",
       "3  39.747753 -84.205582          0.01   \n",
       "4  39.627781 -84.188354          0.01   \n",
       "\n",
       "                                         Description  ...  Hour Weekday  \\\n",
       "0  Right lane blocked due to accident on I-70 Eas...  ...     5     Mon   \n",
       "1  Accident on Brice Rd at Tussing Rd. Expect del...  ...     6     Mon   \n",
       "2  Accident on OH-32 State Route 32 Westbound at ...  ...     6     Mon   \n",
       "3  Accident on I-75 Southbound at Exits 52 52B US...  ...     7     Mon   \n",
       "4  Accident on McEwen Rd at OH-725 Miamisburg Cen...  ...     7     Mon   \n",
       "\n",
       "  Nautical_Twilight_isnull Sunrise_Sunset_isnull Civil_Twilight_isnull  \\\n",
       "0                        0                     0                     0   \n",
       "1                        0                     0                     0   \n",
       "2                        0                     0                     0   \n",
       "3                        0                     0                     0   \n",
       "4                        0                     0                     0   \n",
       "\n",
       "  Astronomical_Twilight_isnull Weather_Timestamp_isnull Wind_Direction_isnull  \\\n",
       "0                            0                        0                     0   \n",
       "1                            0                        0                     0   \n",
       "2                            0                        0                     0   \n",
       "3                            0                        0                     0   \n",
       "4                            0                        0                     0   \n",
       "\n",
       "  Visibility(mi)_isnull Number_isnull  \n",
       "0                     0             1  \n",
       "1                     0             0  \n",
       "2                     0             1  \n",
       "3                     0             1  \n",
       "4                     0             1  \n",
       "\n",
       "[5 rows x 72 columns]"
      ]
     },
     "execution_count": 94,
     "metadata": {},
     "output_type": "execute_result"
    }
   ],
   "source": [
    "df.head()"
   ]
  },
  {
   "cell_type": "code",
   "execution_count": 95,
   "metadata": {
    "scrolled": true
   },
   "outputs": [
    {
     "name": "stdout",
     "output_type": "stream",
     "text": [
      "<class 'pandas.core.frame.DataFrame'>\n",
      "RangeIndex: 1048575 entries, 0 to 1048574\n",
      "Data columns (total 72 columns):\n",
      "ID                              1048575 non-null object\n",
      "Source                          1048575 non-null object\n",
      "TMC                             1048575 non-null int64\n",
      "Severity                        1048575 non-null int64\n",
      "Start_Time                      1048575 non-null datetime64[ns]\n",
      "End_Time                        1048575 non-null datetime64[ns]\n",
      "Start_Lat                       1048575 non-null float64\n",
      "Start_Lng                       1048575 non-null float64\n",
      "Distance(mi)                    1048575 non-null float64\n",
      "Description                     1048575 non-null object\n",
      "Number                          1048575 non-null float64\n",
      "Street                          1048575 non-null object\n",
      "Side                            1048575 non-null object\n",
      "City                            1048575 non-null object\n",
      "County                          1048575 non-null object\n",
      "State                           1048575 non-null object\n",
      "Zipcode                         1048575 non-null object\n",
      "Country                         1048575 non-null object\n",
      "Timezone                        1048575 non-null object\n",
      "Airport_Code                    1048575 non-null object\n",
      "Weather_Timestamp               1048575 non-null object\n",
      "Temperature(F)                  1048575 non-null float64\n",
      "Wind_Chill(F)                   1048575 non-null float64\n",
      "Humidity(%)                     1048575 non-null float64\n",
      "Pressure(in)                    1048575 non-null float64\n",
      "Visibility(mi)                  1048575 non-null float64\n",
      "Wind_Direction                  1048575 non-null object\n",
      "Wind_Speed(mph)                 1048575 non-null float64\n",
      "Precipitation(in)               1048575 non-null float64\n",
      "Weather_Condition               1048575 non-null object\n",
      "Amenity                         1048575 non-null bool\n",
      "Bump                            1048575 non-null bool\n",
      "Crossing                        1048575 non-null bool\n",
      "Give_Way                        1048575 non-null bool\n",
      "Junction                        1048575 non-null bool\n",
      "No_Exit                         1048575 non-null bool\n",
      "Railway                         1048575 non-null bool\n",
      "Roundabout                      1048575 non-null bool\n",
      "Station                         1048575 non-null bool\n",
      "Stop                            1048575 non-null bool\n",
      "Traffic_Calming                 1048575 non-null bool\n",
      "Traffic_Signal                  1048575 non-null bool\n",
      "Turning_Loop                    1048575 non-null bool\n",
      "Sunrise_Sunset                  1048575 non-null object\n",
      "Civil_Twilight                  1048575 non-null object\n",
      "Nautical_Twilight               1048575 non-null object\n",
      "Astronomical_Twilight           1048575 non-null object\n",
      "Precipitation_isnull            1048575 non-null int32\n",
      "Humidity_isnull                 1048575 non-null int32\n",
      "Wind_Speed_isnull               1048575 non-null int32\n",
      "Pressure_isnull                 1048575 non-null int32\n",
      "Temperature_isnull              1048575 non-null int32\n",
      "Windchill_isnull                1048575 non-null int32\n",
      "Weather_isnull                  1048575 non-null int32\n",
      "Description_isnull              1048575 non-null int32\n",
      "City_isnull                     1048575 non-null int32\n",
      "Timezone_isnull                 1048575 non-null int32\n",
      "Zipcode_isnull                  1048575 non-null int32\n",
      "Airport_Code_isnull             1048575 non-null int32\n",
      "Year                            1048575 non-null int64\n",
      "Month                           1048575 non-null object\n",
      "Day                             1048575 non-null int64\n",
      "Hour                            1048575 non-null int64\n",
      "Weekday                         1048575 non-null object\n",
      "Nautical_Twilight_isnull        1048575 non-null int32\n",
      "Sunrise_Sunset_isnull           1048575 non-null int32\n",
      "Civil_Twilight_isnull           1048575 non-null int32\n",
      "Astronomical_Twilight_isnull    1048575 non-null int32\n",
      "Weather_Timestamp_isnull        1048575 non-null int32\n",
      "Wind_Direction_isnull           1048575 non-null int32\n",
      "Visibility(mi)_isnull           1048575 non-null int32\n",
      "Number_isnull                   1048575 non-null int32\n",
      "dtypes: bool(13), datetime64[ns](2), float64(11), int32(20), int64(5), object(21)\n",
      "memory usage: 405.0+ MB\n"
     ]
    }
   ],
   "source": [
    "df.info()"
   ]
  },
  {
   "cell_type": "code",
   "execution_count": 96,
   "metadata": {},
   "outputs": [],
   "source": [
    "# Now, we will convert the first cleaned version to a csv:\n",
    "df.to_csv('US_Accidents_cleaned1.csv')"
   ]
  },
  {
   "cell_type": "code",
   "execution_count": 97,
   "metadata": {
    "scrolled": true
   },
   "outputs": [
    {
     "data": {
      "text/plain": [
       "Clear                                  386111\n",
       "Overcast                               182238\n",
       "Mostly Cloudy                          142518\n",
       "Partly Cloudy                           95093\n",
       "Scattered Clouds                        94684\n",
       "Light Rain                              50388\n",
       "NaN                                     28951\n",
       "Haze                                    14561\n",
       "Light Snow                              13948\n",
       "Rain                                    11829\n",
       "Fog                                      5320\n",
       "Heavy Rain                               4377\n",
       "Light Drizzle                            3853\n",
       "Light Thunderstorms and Rain             2356\n",
       "Thunderstorm                             2125\n",
       "Snow                                     1308\n",
       "Smoke                                    1262\n",
       "Heavy Thunderstorms and Rain             1108\n",
       "Thunderstorms and Rain                   1020\n",
       "Mist                                      924\n",
       "Patches of Fog                            840\n",
       "Light Freezing Rain                       826\n",
       "Drizzle                                   748\n",
       "Shallow Fog                               436\n",
       "Heavy Snow                                386\n",
       "Light Freezing Drizzle                    374\n",
       "Light Freezing Fog                        326\n",
       "Blowing Snow                              105\n",
       "Light Ice Pellets                          95\n",
       "Heavy Drizzle                              89\n",
       "Light Rain Showers                         86\n",
       "Rain Showers                               82\n",
       "Ice Pellets                                51\n",
       "Widespread Dust                            49\n",
       "Small Hail                                 17\n",
       "Volcanic Ash                               17\n",
       "Sand                                       16\n",
       "Squalls                                    13\n",
       "Light Haze                                  6\n",
       "Light Thunderstorms and Snow                6\n",
       "Light Snow Showers                          5\n",
       "Heavy Thunderstorms with Small Hail         5\n",
       "Funnel Cloud                                4\n",
       "Low Drifting Snow                           4\n",
       "Light Fog                                   3\n",
       "Heavy Ice Pellets                           2\n",
       "Snow Grains                                 1\n",
       "Heavy Freezing Rain                         1\n",
       "Heavy Thunderstorms and Snow                1\n",
       "Heavy Smoke                                 1\n",
       "Snow Showers                                1\n",
       "Light Hail                                  1\n",
       "Hail                                        1\n",
       "Heavy Rain Showers                          1\n",
       "Blowing Sand                                1\n",
       "Heavy Blowing Snow                          1\n",
       "Name: Weather_Condition, dtype: int64"
      ]
     },
     "execution_count": 97,
     "metadata": {},
     "output_type": "execute_result"
    }
   ],
   "source": [
    "# We will check some of the objects that will make a category\n",
    "df.Weather_Condition.value_counts()"
   ]
  },
  {
   "cell_type": "code",
   "execution_count": 98,
   "metadata": {
    "scrolled": true
   },
   "outputs": [
    {
     "name": "stdout",
     "output_type": "stream",
     "text": [
      "<class 'pandas.core.frame.DataFrame'>\n",
      "RangeIndex: 1048575 entries, 0 to 1048574\n",
      "Columns: 127 entries, ID to Weather_Condition_Widespread Dust\n",
      "dtypes: bool(13), datetime64[ns](2), float64(11), int32(20), int64(5), object(20), uint8(56)\n",
      "memory usage: 453.0+ MB\n"
     ]
    }
   ],
   "source": [
    "# This can be a value that we can use dummy variables to categorize each condition\n",
    "df = pd.get_dummies(df, columns=['Weather_Condition'])\n",
    "df.info()"
   ]
  },
  {
   "cell_type": "code",
   "execution_count": 99,
   "metadata": {},
   "outputs": [
    {
     "name": "stdout",
     "output_type": "stream",
     "text": [
      "<class 'pandas.core.frame.DataFrame'>\n",
      "RangeIndex: 1048575 entries, 0 to 1048574\n",
      "Columns: 127 entries, ID to Weather_Condition_Widespread Dust\n",
      "dtypes: bool(13), datetime64[ns](2), float64(11), int32(20), int64(5), object(20), uint8(56)\n",
      "memory usage: 453.0+ MB\n"
     ]
    }
   ],
   "source": [
    "df.info()"
   ]
  },
  {
   "cell_type": "code",
   "execution_count": 100,
   "metadata": {},
   "outputs": [],
   "source": [
    "df = pd.get_dummies(df, columns=['State'])"
   ]
  },
  {
   "cell_type": "code",
   "execution_count": 101,
   "metadata": {
    "scrolled": true
   },
   "outputs": [
    {
     "data": {
      "text/html": [
       "<div>\n",
       "<style scoped>\n",
       "    .dataframe tbody tr th:only-of-type {\n",
       "        vertical-align: middle;\n",
       "    }\n",
       "\n",
       "    .dataframe tbody tr th {\n",
       "        vertical-align: top;\n",
       "    }\n",
       "\n",
       "    .dataframe thead th {\n",
       "        text-align: right;\n",
       "    }\n",
       "</style>\n",
       "<table border=\"1\" class=\"dataframe\">\n",
       "  <thead>\n",
       "    <tr style=\"text-align: right;\">\n",
       "      <th></th>\n",
       "      <th>TMC</th>\n",
       "      <th>Severity</th>\n",
       "      <th>Start_Lat</th>\n",
       "      <th>Start_Lng</th>\n",
       "      <th>Distance(mi)</th>\n",
       "      <th>Number</th>\n",
       "      <th>Temperature(F)</th>\n",
       "      <th>Wind_Chill(F)</th>\n",
       "      <th>Humidity(%)</th>\n",
       "      <th>Pressure(in)</th>\n",
       "      <th>...</th>\n",
       "      <th>State_SD</th>\n",
       "      <th>State_TN</th>\n",
       "      <th>State_TX</th>\n",
       "      <th>State_UT</th>\n",
       "      <th>State_VA</th>\n",
       "      <th>State_VT</th>\n",
       "      <th>State_WA</th>\n",
       "      <th>State_WI</th>\n",
       "      <th>State_WV</th>\n",
       "      <th>State_WY</th>\n",
       "    </tr>\n",
       "  </thead>\n",
       "  <tbody>\n",
       "    <tr>\n",
       "      <td>count</td>\n",
       "      <td>1.048575e+06</td>\n",
       "      <td>1.048575e+06</td>\n",
       "      <td>1.048575e+06</td>\n",
       "      <td>1.048575e+06</td>\n",
       "      <td>1.048575e+06</td>\n",
       "      <td>1.048575e+06</td>\n",
       "      <td>1.048575e+06</td>\n",
       "      <td>1.048575e+06</td>\n",
       "      <td>1.048575e+06</td>\n",
       "      <td>1.048575e+06</td>\n",
       "      <td>...</td>\n",
       "      <td>1.048575e+06</td>\n",
       "      <td>1.048575e+06</td>\n",
       "      <td>1.048575e+06</td>\n",
       "      <td>1.048575e+06</td>\n",
       "      <td>1.048575e+06</td>\n",
       "      <td>1.048575e+06</td>\n",
       "      <td>1.048575e+06</td>\n",
       "      <td>1.048575e+06</td>\n",
       "      <td>1.048575e+06</td>\n",
       "      <td>1.048575e+06</td>\n",
       "    </tr>\n",
       "    <tr>\n",
       "      <td>mean</td>\n",
       "      <td>2.077632e+02</td>\n",
       "      <td>2.358323e+00</td>\n",
       "      <td>3.611783e+01</td>\n",
       "      <td>-9.517610e+01</td>\n",
       "      <td>1.476137e-01</td>\n",
       "      <td>5.267198e+03</td>\n",
       "      <td>6.199550e+01</td>\n",
       "      <td>6.082627e+01</td>\n",
       "      <td>6.680177e+01</td>\n",
       "      <td>3.003558e+01</td>\n",
       "      <td>...</td>\n",
       "      <td>1.907350e-06</td>\n",
       "      <td>1.566507e-02</td>\n",
       "      <td>1.285535e-01</td>\n",
       "      <td>5.749708e-03</td>\n",
       "      <td>2.566912e-02</td>\n",
       "      <td>9.727487e-05</td>\n",
       "      <td>2.073290e-02</td>\n",
       "      <td>3.247264e-03</td>\n",
       "      <td>1.144410e-04</td>\n",
       "      <td>9.155282e-05</td>\n",
       "    </tr>\n",
       "    <tr>\n",
       "      <td>std</td>\n",
       "      <td>1.968127e+01</td>\n",
       "      <td>4.824762e-01</td>\n",
       "      <td>4.895696e+00</td>\n",
       "      <td>1.720663e+01</td>\n",
       "      <td>1.361161e+00</td>\n",
       "      <td>7.388160e+03</td>\n",
       "      <td>1.878450e+01</td>\n",
       "      <td>2.091214e+01</td>\n",
       "      <td>2.156002e+01</td>\n",
       "      <td>2.188615e-01</td>\n",
       "      <td>...</td>\n",
       "      <td>1.381068e-03</td>\n",
       "      <td>1.241760e-01</td>\n",
       "      <td>3.347053e-01</td>\n",
       "      <td>7.560856e-02</td>\n",
       "      <td>1.581463e-01</td>\n",
       "      <td>9.862327e-03</td>\n",
       "      <td>1.424888e-01</td>\n",
       "      <td>5.689220e-02</td>\n",
       "      <td>1.069710e-02</td>\n",
       "      <td>9.567890e-03</td>\n",
       "    </tr>\n",
       "    <tr>\n",
       "      <td>min</td>\n",
       "      <td>2.000000e+02</td>\n",
       "      <td>0.000000e+00</td>\n",
       "      <td>2.457027e+01</td>\n",
       "      <td>-1.244931e+02</td>\n",
       "      <td>0.000000e+00</td>\n",
       "      <td>1.000000e+00</td>\n",
       "      <td>-7.780000e+01</td>\n",
       "      <td>-7.780000e+01</td>\n",
       "      <td>4.000000e+00</td>\n",
       "      <td>0.000000e+00</td>\n",
       "      <td>...</td>\n",
       "      <td>0.000000e+00</td>\n",
       "      <td>0.000000e+00</td>\n",
       "      <td>0.000000e+00</td>\n",
       "      <td>0.000000e+00</td>\n",
       "      <td>0.000000e+00</td>\n",
       "      <td>0.000000e+00</td>\n",
       "      <td>0.000000e+00</td>\n",
       "      <td>0.000000e+00</td>\n",
       "      <td>0.000000e+00</td>\n",
       "      <td>0.000000e+00</td>\n",
       "    </tr>\n",
       "    <tr>\n",
       "      <td>25%</td>\n",
       "      <td>2.010000e+02</td>\n",
       "      <td>2.000000e+00</td>\n",
       "      <td>3.300991e+01</td>\n",
       "      <td>-1.173272e+02</td>\n",
       "      <td>0.000000e+00</td>\n",
       "      <td>1.217526e+03</td>\n",
       "      <td>5.000000e+01</td>\n",
       "      <td>5.000000e+01</td>\n",
       "      <td>5.200000e+01</td>\n",
       "      <td>2.992000e+01</td>\n",
       "      <td>...</td>\n",
       "      <td>0.000000e+00</td>\n",
       "      <td>0.000000e+00</td>\n",
       "      <td>0.000000e+00</td>\n",
       "      <td>0.000000e+00</td>\n",
       "      <td>0.000000e+00</td>\n",
       "      <td>0.000000e+00</td>\n",
       "      <td>0.000000e+00</td>\n",
       "      <td>0.000000e+00</td>\n",
       "      <td>0.000000e+00</td>\n",
       "      <td>0.000000e+00</td>\n",
       "    </tr>\n",
       "    <tr>\n",
       "      <td>50%</td>\n",
       "      <td>2.010000e+02</td>\n",
       "      <td>2.000000e+00</td>\n",
       "      <td>3.541019e+01</td>\n",
       "      <td>-9.021603e+01</td>\n",
       "      <td>0.000000e+00</td>\n",
       "      <td>3.269000e+03</td>\n",
       "      <td>6.400000e+01</td>\n",
       "      <td>6.400000e+01</td>\n",
       "      <td>6.800000e+01</td>\n",
       "      <td>3.003000e+01</td>\n",
       "      <td>...</td>\n",
       "      <td>0.000000e+00</td>\n",
       "      <td>0.000000e+00</td>\n",
       "      <td>0.000000e+00</td>\n",
       "      <td>0.000000e+00</td>\n",
       "      <td>0.000000e+00</td>\n",
       "      <td>0.000000e+00</td>\n",
       "      <td>0.000000e+00</td>\n",
       "      <td>0.000000e+00</td>\n",
       "      <td>0.000000e+00</td>\n",
       "      <td>0.000000e+00</td>\n",
       "    </tr>\n",
       "    <tr>\n",
       "      <td>75%</td>\n",
       "      <td>2.010000e+02</td>\n",
       "      <td>3.000000e+00</td>\n",
       "      <td>4.009613e+01</td>\n",
       "      <td>-8.093151e+01</td>\n",
       "      <td>1.000000e-02</td>\n",
       "      <td>7.103000e+03</td>\n",
       "      <td>7.590000e+01</td>\n",
       "      <td>7.590000e+01</td>\n",
       "      <td>8.500000e+01</td>\n",
       "      <td>3.014000e+01</td>\n",
       "      <td>...</td>\n",
       "      <td>0.000000e+00</td>\n",
       "      <td>0.000000e+00</td>\n",
       "      <td>0.000000e+00</td>\n",
       "      <td>0.000000e+00</td>\n",
       "      <td>0.000000e+00</td>\n",
       "      <td>0.000000e+00</td>\n",
       "      <td>0.000000e+00</td>\n",
       "      <td>0.000000e+00</td>\n",
       "      <td>0.000000e+00</td>\n",
       "      <td>0.000000e+00</td>\n",
       "    </tr>\n",
       "    <tr>\n",
       "      <td>max</td>\n",
       "      <td>4.060000e+02</td>\n",
       "      <td>4.000000e+00</td>\n",
       "      <td>4.900076e+01</td>\n",
       "      <td>-6.865836e+01</td>\n",
       "      <td>3.336300e+02</td>\n",
       "      <td>8.519090e+05</td>\n",
       "      <td>1.670000e+02</td>\n",
       "      <td>1.670000e+02</td>\n",
       "      <td>1.000000e+02</td>\n",
       "      <td>3.304000e+01</td>\n",
       "      <td>...</td>\n",
       "      <td>1.000000e+00</td>\n",
       "      <td>1.000000e+00</td>\n",
       "      <td>1.000000e+00</td>\n",
       "      <td>1.000000e+00</td>\n",
       "      <td>1.000000e+00</td>\n",
       "      <td>1.000000e+00</td>\n",
       "      <td>1.000000e+00</td>\n",
       "      <td>1.000000e+00</td>\n",
       "      <td>1.000000e+00</td>\n",
       "      <td>1.000000e+00</td>\n",
       "    </tr>\n",
       "  </tbody>\n",
       "</table>\n",
       "<p>8 rows × 141 columns</p>\n",
       "</div>"
      ],
      "text/plain": [
       "                TMC      Severity     Start_Lat     Start_Lng  Distance(mi)  \\\n",
       "count  1.048575e+06  1.048575e+06  1.048575e+06  1.048575e+06  1.048575e+06   \n",
       "mean   2.077632e+02  2.358323e+00  3.611783e+01 -9.517610e+01  1.476137e-01   \n",
       "std    1.968127e+01  4.824762e-01  4.895696e+00  1.720663e+01  1.361161e+00   \n",
       "min    2.000000e+02  0.000000e+00  2.457027e+01 -1.244931e+02  0.000000e+00   \n",
       "25%    2.010000e+02  2.000000e+00  3.300991e+01 -1.173272e+02  0.000000e+00   \n",
       "50%    2.010000e+02  2.000000e+00  3.541019e+01 -9.021603e+01  0.000000e+00   \n",
       "75%    2.010000e+02  3.000000e+00  4.009613e+01 -8.093151e+01  1.000000e-02   \n",
       "max    4.060000e+02  4.000000e+00  4.900076e+01 -6.865836e+01  3.336300e+02   \n",
       "\n",
       "             Number  Temperature(F)  Wind_Chill(F)   Humidity(%)  \\\n",
       "count  1.048575e+06    1.048575e+06   1.048575e+06  1.048575e+06   \n",
       "mean   5.267198e+03    6.199550e+01   6.082627e+01  6.680177e+01   \n",
       "std    7.388160e+03    1.878450e+01   2.091214e+01  2.156002e+01   \n",
       "min    1.000000e+00   -7.780000e+01  -7.780000e+01  4.000000e+00   \n",
       "25%    1.217526e+03    5.000000e+01   5.000000e+01  5.200000e+01   \n",
       "50%    3.269000e+03    6.400000e+01   6.400000e+01  6.800000e+01   \n",
       "75%    7.103000e+03    7.590000e+01   7.590000e+01  8.500000e+01   \n",
       "max    8.519090e+05    1.670000e+02   1.670000e+02  1.000000e+02   \n",
       "\n",
       "       Pressure(in)  ...      State_SD      State_TN      State_TX  \\\n",
       "count  1.048575e+06  ...  1.048575e+06  1.048575e+06  1.048575e+06   \n",
       "mean   3.003558e+01  ...  1.907350e-06  1.566507e-02  1.285535e-01   \n",
       "std    2.188615e-01  ...  1.381068e-03  1.241760e-01  3.347053e-01   \n",
       "min    0.000000e+00  ...  0.000000e+00  0.000000e+00  0.000000e+00   \n",
       "25%    2.992000e+01  ...  0.000000e+00  0.000000e+00  0.000000e+00   \n",
       "50%    3.003000e+01  ...  0.000000e+00  0.000000e+00  0.000000e+00   \n",
       "75%    3.014000e+01  ...  0.000000e+00  0.000000e+00  0.000000e+00   \n",
       "max    3.304000e+01  ...  1.000000e+00  1.000000e+00  1.000000e+00   \n",
       "\n",
       "           State_UT      State_VA      State_VT      State_WA      State_WI  \\\n",
       "count  1.048575e+06  1.048575e+06  1.048575e+06  1.048575e+06  1.048575e+06   \n",
       "mean   5.749708e-03  2.566912e-02  9.727487e-05  2.073290e-02  3.247264e-03   \n",
       "std    7.560856e-02  1.581463e-01  9.862327e-03  1.424888e-01  5.689220e-02   \n",
       "min    0.000000e+00  0.000000e+00  0.000000e+00  0.000000e+00  0.000000e+00   \n",
       "25%    0.000000e+00  0.000000e+00  0.000000e+00  0.000000e+00  0.000000e+00   \n",
       "50%    0.000000e+00  0.000000e+00  0.000000e+00  0.000000e+00  0.000000e+00   \n",
       "75%    0.000000e+00  0.000000e+00  0.000000e+00  0.000000e+00  0.000000e+00   \n",
       "max    1.000000e+00  1.000000e+00  1.000000e+00  1.000000e+00  1.000000e+00   \n",
       "\n",
       "           State_WV      State_WY  \n",
       "count  1.048575e+06  1.048575e+06  \n",
       "mean   1.144410e-04  9.155282e-05  \n",
       "std    1.069710e-02  9.567890e-03  \n",
       "min    0.000000e+00  0.000000e+00  \n",
       "25%    0.000000e+00  0.000000e+00  \n",
       "50%    0.000000e+00  0.000000e+00  \n",
       "75%    0.000000e+00  0.000000e+00  \n",
       "max    1.000000e+00  1.000000e+00  \n",
       "\n",
       "[8 rows x 141 columns]"
      ]
     },
     "execution_count": 101,
     "metadata": {},
     "output_type": "execute_result"
    }
   ],
   "source": [
    "# Now, we can find the descriptions of the numerical values\n",
    "df.describe()"
   ]
  },
  {
   "cell_type": "markdown",
   "metadata": {},
   "source": [
    "We want to perform our first linear model to see the strenght of our model"
   ]
  },
  {
   "cell_type": "code",
   "execution_count": 102,
   "metadata": {},
   "outputs": [],
   "source": [
    "from sklearn.linear_model import LinearRegression"
   ]
  },
  {
   "cell_type": "code",
   "execution_count": 103,
   "metadata": {},
   "outputs": [
    {
     "data": {
      "text/plain": [
       "LinearRegression(copy_X=True, fit_intercept=True, n_jobs=None, normalize=False)"
      ]
     },
     "execution_count": 103,
     "metadata": {},
     "output_type": "execute_result"
    }
   ],
   "source": [
    "lr = LinearRegression()\n",
    "lr"
   ]
  },
  {
   "cell_type": "code",
   "execution_count": 104,
   "metadata": {},
   "outputs": [],
   "source": [
    "# Now, we will define target and feature variables. Since this project is trying to generate a model to predict the severity of accidents, we will use \"Severrity\" as targetr variable\n",
    "target_names = ['Severity']\n",
    "feature_names = [c for c in df.columns if c not in target_names and df[c].dtype != object and not c.endswith('Time')]"
   ]
  },
  {
   "cell_type": "code",
   "execution_count": 105,
   "metadata": {},
   "outputs": [
    {
     "data": {
      "text/plain": [
       "(1048575, 153)"
      ]
     },
     "execution_count": 105,
     "metadata": {},
     "output_type": "execute_result"
    }
   ],
   "source": [
    "X = df[feature_names]\n",
    "y = df[target_names]\n",
    "X.shape"
   ]
  },
  {
   "cell_type": "code",
   "execution_count": 106,
   "metadata": {
    "scrolled": true
   },
   "outputs": [
    {
     "name": "stdout",
     "output_type": "stream",
     "text": [
      "<class 'pandas.core.frame.DataFrame'>\n",
      "RangeIndex: 1048575 entries, 0 to 1048574\n",
      "Columns: 153 entries, TMC to State_WY\n",
      "dtypes: bool(13), float64(11), int32(20), int64(4), uint8(105)\n",
      "memory usage: 318.0 MB\n"
     ]
    }
   ],
   "source": [
    "X.info()"
   ]
  },
  {
   "cell_type": "code",
   "execution_count": 107,
   "metadata": {},
   "outputs": [
    {
     "data": {
      "text/plain": [
       "State_WY                          0\n",
       "Number_isnull                     0\n",
       "Weather_Condition_Hail            0\n",
       "Weather_Condition_Funnel Cloud    0\n",
       "Weather_Condition_Fog             0\n",
       "                                 ..\n",
       "Weather_Condition_Thunderstorm    0\n",
       "Weather_Condition_Squalls         0\n",
       "Weather_Condition_Snow Showers    0\n",
       "Weather_Condition_Snow Grains     0\n",
       "TMC                               0\n",
       "Length: 153, dtype: int64"
      ]
     },
     "execution_count": 107,
     "metadata": {},
     "output_type": "execute_result"
    }
   ],
   "source": [
    "missing_values_X = X.isnull().sum().sort_values(ascending=False)\n",
    "missing_values_X"
   ]
  },
  {
   "cell_type": "code",
   "execution_count": 108,
   "metadata": {},
   "outputs": [
    {
     "data": {
      "text/plain": [
       "0.3221661877835926"
      ]
     },
     "execution_count": 108,
     "metadata": {},
     "output_type": "execute_result"
    }
   ],
   "source": [
    "lr.fit(X, y)\n",
    "lr.score(X,y)"
   ]
  },
  {
   "cell_type": "markdown",
   "metadata": {},
   "source": [
    "Nice try, now I will save this DataFrame with dummies to a csv"
   ]
  },
  {
   "cell_type": "code",
   "execution_count": 109,
   "metadata": {},
   "outputs": [],
   "source": [
    "df.to_csv('US_Accidents_with_dummies.csv')"
   ]
  },
  {
   "cell_type": "code",
   "execution_count": null,
   "metadata": {},
   "outputs": [],
   "source": []
  }
 ],
 "metadata": {
  "kernelspec": {
   "display_name": "Python 3",
   "language": "python",
   "name": "python3"
  },
  "language_info": {
   "codemirror_mode": {
    "name": "ipython",
    "version": 3
   },
   "file_extension": ".py",
   "mimetype": "text/x-python",
   "name": "python",
   "nbconvert_exporter": "python",
   "pygments_lexer": "ipython3",
   "version": "3.7.4"
  }
 },
 "nbformat": 4,
 "nbformat_minor": 2
}
